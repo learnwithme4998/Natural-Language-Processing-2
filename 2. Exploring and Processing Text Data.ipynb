{
 "cells": [
  {
   "cell_type": "markdown",
   "id": "072fca1b",
   "metadata": {},
   "source": [
    "# Exploring and Processing Text Data"
   ]
  },
  {
   "cell_type": "markdown",
   "id": "7fbae321",
   "metadata": {},
   "source": [
    "- Lowercasing\n",
    "- Punctuation removal\n",
    "- Stop words removal\n",
    "- Text standardization\n",
    "- Spelling correction\n",
    "- Tokenization\n",
    "- Stemming\n",
    "- Lemmatization\n",
    "- Exploratory data analysis\n",
    "- End-to-end processing pipeline"
   ]
  },
  {
   "cell_type": "markdown",
   "id": "538fb73c",
   "metadata": {},
   "source": [
    "### 1.Converting Text Data to Lowercase"
   ]
  },
  {
   "cell_type": "markdown",
   "id": "0e3416eb",
   "metadata": {},
   "source": [
    "The lower() method converts all uppercase characters in a string into\n",
    "lowercase characters and returns them."
   ]
  },
  {
   "cell_type": "markdown",
   "id": "a1063d59",
   "metadata": {},
   "source": [
    "#### 1.1 Read/create the text data"
   ]
  },
  {
   "cell_type": "code",
   "execution_count": 42,
   "id": "5138ba66",
   "metadata": {},
   "outputs": [],
   "source": [
    "text=['This is introduction to NLP','It is likely to be useful,to people ','Machine learning is the new electrcity','Therewould be less hype around AI and more action goingforward','python is the best tool!','R is good langauage','Ilike this book','I want more books like this']"
   ]
  },
  {
   "cell_type": "code",
   "execution_count": 43,
   "id": "271bfb9e",
   "metadata": {},
   "outputs": [
    {
     "name": "stdout",
     "output_type": "stream",
     "text": [
      "['This is introduction to NLP', 'It is likely to be useful,to people ', 'Machine learning is the new electrcity', 'Therewould be less hype around AI and more action goingforward', 'python is the best tool!', 'R is good langauage', 'Ilike this book', 'I want more books like this']\n"
     ]
    }
   ],
   "source": [
    "print(text)"
   ]
  },
  {
   "cell_type": "code",
   "execution_count": 45,
   "id": "c3a14c1c",
   "metadata": {},
   "outputs": [
    {
     "data": {
      "text/html": [
       "<div>\n",
       "<style scoped>\n",
       "    .dataframe tbody tr th:only-of-type {\n",
       "        vertical-align: middle;\n",
       "    }\n",
       "\n",
       "    .dataframe tbody tr th {\n",
       "        vertical-align: top;\n",
       "    }\n",
       "\n",
       "    .dataframe thead th {\n",
       "        text-align: right;\n",
       "    }\n",
       "</style>\n",
       "<table border=\"1\" class=\"dataframe\">\n",
       "  <thead>\n",
       "    <tr style=\"text-align: right;\">\n",
       "      <th></th>\n",
       "      <th>tweet</th>\n",
       "    </tr>\n",
       "  </thead>\n",
       "  <tbody>\n",
       "    <tr>\n",
       "      <th>0</th>\n",
       "      <td>This is introduction to NLP</td>\n",
       "    </tr>\n",
       "    <tr>\n",
       "      <th>1</th>\n",
       "      <td>It is likely to be useful,to people</td>\n",
       "    </tr>\n",
       "    <tr>\n",
       "      <th>2</th>\n",
       "      <td>Machine learning is the new electrcity</td>\n",
       "    </tr>\n",
       "    <tr>\n",
       "      <th>3</th>\n",
       "      <td>Therewould be less hype around AI and more act...</td>\n",
       "    </tr>\n",
       "    <tr>\n",
       "      <th>4</th>\n",
       "      <td>python is the best tool!</td>\n",
       "    </tr>\n",
       "  </tbody>\n",
       "</table>\n",
       "</div>"
      ],
      "text/plain": [
       "                                               tweet\n",
       "0                        This is introduction to NLP\n",
       "1               It is likely to be useful,to people \n",
       "2             Machine learning is the new electrcity\n",
       "3  Therewould be less hype around AI and more act...\n",
       "4                           python is the best tool!"
      ]
     },
     "execution_count": 45,
     "metadata": {},
     "output_type": "execute_result"
    }
   ],
   "source": [
    "#convert list to data frame\n",
    "import pandas as pd\n",
    "df = pd.DataFrame({'tweet':text})\n",
    "df.head()"
   ]
  },
  {
   "cell_type": "markdown",
   "id": "4e6db535",
   "metadata": {},
   "source": [
    "#### 1-2 Execute lower() function on the text data"
   ]
  },
  {
   "cell_type": "code",
   "execution_count": 46,
   "id": "1c3ec433",
   "metadata": {},
   "outputs": [
    {
     "name": "stdout",
     "output_type": "stream",
     "text": [
      "testing\n"
     ]
    }
   ],
   "source": [
    "x = 'Testing'\n",
    "x2 = x.lower()\n",
    "print(x2)"
   ]
  },
  {
   "cell_type": "code",
   "execution_count": 48,
   "id": "cc62ed71",
   "metadata": {},
   "outputs": [
    {
     "data": {
      "text/html": [
       "<div>\n",
       "<style scoped>\n",
       "    .dataframe tbody tr th:only-of-type {\n",
       "        vertical-align: middle;\n",
       "    }\n",
       "\n",
       "    .dataframe tbody tr th {\n",
       "        vertical-align: top;\n",
       "    }\n",
       "\n",
       "    .dataframe thead th {\n",
       "        text-align: right;\n",
       "    }\n",
       "</style>\n",
       "<table border=\"1\" class=\"dataframe\">\n",
       "  <thead>\n",
       "    <tr style=\"text-align: right;\">\n",
       "      <th></th>\n",
       "      <th>tweet</th>\n",
       "    </tr>\n",
       "  </thead>\n",
       "  <tbody>\n",
       "    <tr>\n",
       "      <th>0</th>\n",
       "      <td>this is introduction to nlp</td>\n",
       "    </tr>\n",
       "    <tr>\n",
       "      <th>1</th>\n",
       "      <td>it is likely to be useful,to people</td>\n",
       "    </tr>\n",
       "    <tr>\n",
       "      <th>2</th>\n",
       "      <td>machine learning is the new electrcity</td>\n",
       "    </tr>\n",
       "    <tr>\n",
       "      <th>3</th>\n",
       "      <td>therewould be less hype around ai and more act...</td>\n",
       "    </tr>\n",
       "    <tr>\n",
       "      <th>4</th>\n",
       "      <td>python is the best tool!</td>\n",
       "    </tr>\n",
       "  </tbody>\n",
       "</table>\n",
       "</div>"
      ],
      "text/plain": [
       "                                               tweet\n",
       "0                        this is introduction to nlp\n",
       "1                it is likely to be useful,to people\n",
       "2             machine learning is the new electrcity\n",
       "3  therewould be less hype around ai and more act...\n",
       "4                           python is the best tool!"
      ]
     },
     "execution_count": 48,
     "metadata": {},
     "output_type": "execute_result"
    }
   ],
   "source": [
    "df['tweet'] = df['tweet'].apply(lambda x: \" \".join(x.lower() for x in x.split()))\n",
    "df.head()"
   ]
  },
  {
   "cell_type": "markdown",
   "id": "6460e7fd",
   "metadata": {},
   "source": [
    "### 2.Removing Punctuation"
   ]
  },
  {
   "cell_type": "markdown",
   "id": "1bf3c2b8",
   "metadata": {},
   "source": [
    "The simplest way to do this is by using the regex and replace() function in\n",
    "Python."
   ]
  },
  {
   "cell_type": "code",
   "execution_count": 49,
   "id": "6767e83a",
   "metadata": {},
   "outputs": [
    {
     "name": "stdout",
     "output_type": "stream",
     "text": [
      "                                               tweet\n",
      "0                        This is introduction to NLP\n",
      "1               It is likely to be useful,to people \n",
      "2             Machine learning is the new electrcity\n",
      "3  There would be less hype around AI and more ac...\n",
      "4                           python is the best tool!\n",
      "5                                R is good langauage\n",
      "6                                   I like this book\n",
      "7                        I want more books like this\n"
     ]
    }
   ],
   "source": [
    "text=['This is introduction to NLP','It is likely to be useful,to people ','Machine learning is the new electrcity',\n",
    "'There would be less hype around AI and more action goingforward','python is the best tool!','R is good langauage','I like this book','I want more books like this']\n",
    "#convert list to dataframe\n",
    "import pandas as pd\n",
    "df = pd.DataFrame({'tweet':text})\n",
    "print(df)"
   ]
  },
  {
   "cell_type": "markdown",
   "id": "04fbdfed",
   "metadata": {},
   "source": [
    "#### 2-1 Execute below function on the text data"
   ]
  },
  {
   "cell_type": "markdown",
   "id": "cbf488c3",
   "metadata": {},
   "source": [
    "In regular expressions, the pattern `[^\\w\\s]` is used to match any character that is not a word character or whitespace character. Here's what each part of the pattern means:\n",
    "\n",
    "1. `[]`: Square brackets denote a character class in regular expressions. It specifies a set of characters that you want to match.\n",
    "2. `^`: The caret symbol inside the character class negates the character class. It means that you want to match any character that is NOT in the specified character class.\n",
    "3. `\\w`: The `\\w` is a shorthand character class that matches any word character. Word characters include alphanumeric characters (a-z, A-Z, 0-9) and the underscore `_`.\n",
    "4. `\\s`: The `\\s` is a shorthand character class that matches any whitespace character, including spaces, tabs, and newlines.\n",
    "\n",
    "So, `[^\\w\\s]` matches any character that is not a word character or whitespace character.\n",
    "\n",
    "For example:\n",
    "- The pattern `[^\\w\\s]` will match characters like `!`, `@`, `$`, `#`, etc. because they are not word characters and not whitespace characters.\n",
    "- The pattern `[^\\w\\s]` will not match alphabetic characters, digits, or underscores because they are word characters, and it will not match spaces or tabs because they are whitespace characters.\n",
    "\n"
   ]
  },
  {
   "cell_type": "code",
   "execution_count": 50,
   "id": "ba0fe595",
   "metadata": {},
   "outputs": [],
   "source": [
    "import re\n",
    "s = \"I. like. This book!\"\n",
    "s1 = re.sub(r'[^\\w\\s]',\"\",s)"
   ]
  },
  {
   "cell_type": "code",
   "execution_count": 51,
   "id": "35c6da7c",
   "metadata": {},
   "outputs": [
    {
     "data": {
      "text/plain": [
       "'I like This book'"
      ]
     },
     "execution_count": 51,
     "metadata": {},
     "output_type": "execute_result"
    }
   ],
   "source": [
    "s1"
   ]
  },
  {
   "cell_type": "code",
   "execution_count": 53,
   "id": "0dd901c7",
   "metadata": {},
   "outputs": [
    {
     "name": "stderr",
     "output_type": "stream",
     "text": [
      "<ipython-input-53-30e93bc2ad0a>:1: FutureWarning: The default value of regex will change from True to False in a future version.\n",
      "  df['tweet'] = df['tweet'].str.replace('[^\\w\\s]',\"\")\n"
     ]
    },
    {
     "data": {
      "text/html": [
       "<div>\n",
       "<style scoped>\n",
       "    .dataframe tbody tr th:only-of-type {\n",
       "        vertical-align: middle;\n",
       "    }\n",
       "\n",
       "    .dataframe tbody tr th {\n",
       "        vertical-align: top;\n",
       "    }\n",
       "\n",
       "    .dataframe thead th {\n",
       "        text-align: right;\n",
       "    }\n",
       "</style>\n",
       "<table border=\"1\" class=\"dataframe\">\n",
       "  <thead>\n",
       "    <tr style=\"text-align: right;\">\n",
       "      <th></th>\n",
       "      <th>tweet</th>\n",
       "    </tr>\n",
       "  </thead>\n",
       "  <tbody>\n",
       "    <tr>\n",
       "      <th>0</th>\n",
       "      <td>This is introduction to NLP</td>\n",
       "    </tr>\n",
       "    <tr>\n",
       "      <th>1</th>\n",
       "      <td>It is likely to be usefulto people</td>\n",
       "    </tr>\n",
       "    <tr>\n",
       "      <th>2</th>\n",
       "      <td>Machine learning is the new electrcity</td>\n",
       "    </tr>\n",
       "    <tr>\n",
       "      <th>3</th>\n",
       "      <td>There would be less hype around AI and more ac...</td>\n",
       "    </tr>\n",
       "    <tr>\n",
       "      <th>4</th>\n",
       "      <td>python is the best tool</td>\n",
       "    </tr>\n",
       "  </tbody>\n",
       "</table>\n",
       "</div>"
      ],
      "text/plain": [
       "                                               tweet\n",
       "0                        This is introduction to NLP\n",
       "1                It is likely to be usefulto people \n",
       "2             Machine learning is the new electrcity\n",
       "3  There would be less hype around AI and more ac...\n",
       "4                            python is the best tool"
      ]
     },
     "execution_count": 53,
     "metadata": {},
     "output_type": "execute_result"
    }
   ],
   "source": [
    "df['tweet'] = df['tweet'].str.replace('[^\\w\\s]',\"\")\n",
    "df.head()"
   ]
  },
  {
   "cell_type": "code",
   "execution_count": 54,
   "id": "45dcfdb3",
   "metadata": {},
   "outputs": [],
   "source": [
    "import string\n",
    "s = \"I. like. This book!\"\n",
    "for c in string.punctuation:\n",
    "    s= s.replace(c,\"\")"
   ]
  },
  {
   "cell_type": "code",
   "execution_count": 55,
   "id": "119e1a77",
   "metadata": {},
   "outputs": [
    {
     "name": "stdout",
     "output_type": "stream",
     "text": [
      "I like This book\n"
     ]
    }
   ],
   "source": [
    "print(s)"
   ]
  },
  {
   "cell_type": "markdown",
   "id": "23bb1b65",
   "metadata": {},
   "source": [
    "### 3. Removing Stop Words"
   ]
  },
  {
   "cell_type": "markdown",
   "id": "17ef8975",
   "metadata": {},
   "source": [
    "The simplest way to do this by using the NLTK library, or you can build\n",
    "your own stop words file."
   ]
  },
  {
   "cell_type": "code",
   "execution_count": 56,
   "id": "8b0d67dd",
   "metadata": {},
   "outputs": [],
   "source": [
    "text=['This is introduction to NLP','It is likely to be useful,to people ','Machine learning is the new electrcity',\n",
    "'There would be less hype around AI and more action goingforward','python is the best tool!','R is good langauage','I likethis book','I want more books like this']"
   ]
  },
  {
   "cell_type": "code",
   "execution_count": 57,
   "id": "c869ddfd",
   "metadata": {},
   "outputs": [
    {
     "name": "stdout",
     "output_type": "stream",
     "text": [
      "                                               tweet\n",
      "0                        This is introduction to NLP\n",
      "1               It is likely to be useful,to people \n",
      "2             Machine learning is the new electrcity\n",
      "3  There would be less hype around AI and more ac...\n",
      "4                           python is the best tool!\n",
      "5                                R is good langauage\n",
      "6                                    I likethis book\n",
      "7                        I want more books like this\n"
     ]
    }
   ],
   "source": [
    "#convert list to data frame\n",
    "import pandas as pd\n",
    "df = pd.DataFrame({'tweet':text})\n",
    "print(df)"
   ]
  },
  {
   "cell_type": "code",
   "execution_count": 58,
   "id": "ee9f0241",
   "metadata": {},
   "outputs": [],
   "source": [
    "import nltk\n",
    "from nltk.corpus import stopwords"
   ]
  },
  {
   "cell_type": "code",
   "execution_count": 59,
   "id": "d156787a",
   "metadata": {},
   "outputs": [],
   "source": [
    "#remove stop words\n",
    "stop = stopwords.words('english')\n",
    "df['tweet'] = df['tweet'].apply(lambda x: \" \".join(x for x in x.split() if x not in stop))"
   ]
  },
  {
   "cell_type": "code",
   "execution_count": 67,
   "id": "bdeb6e1d",
   "metadata": {},
   "outputs": [
    {
     "data": {
      "text/plain": [
       "list"
      ]
     },
     "execution_count": 67,
     "metadata": {},
     "output_type": "execute_result"
    }
   ],
   "source": [
    "type(stop)"
   ]
  },
  {
   "cell_type": "code",
   "execution_count": 69,
   "id": "8df6d851",
   "metadata": {},
   "outputs": [
    {
     "data": {
      "text/html": [
       "<div>\n",
       "<style scoped>\n",
       "    .dataframe tbody tr th:only-of-type {\n",
       "        vertical-align: middle;\n",
       "    }\n",
       "\n",
       "    .dataframe tbody tr th {\n",
       "        vertical-align: top;\n",
       "    }\n",
       "\n",
       "    .dataframe thead th {\n",
       "        text-align: right;\n",
       "    }\n",
       "</style>\n",
       "<table border=\"1\" class=\"dataframe\">\n",
       "  <thead>\n",
       "    <tr style=\"text-align: right;\">\n",
       "      <th></th>\n",
       "      <th>tweet</th>\n",
       "    </tr>\n",
       "  </thead>\n",
       "  <tbody>\n",
       "    <tr>\n",
       "      <th>0</th>\n",
       "      <td>This introduction NLP</td>\n",
       "    </tr>\n",
       "    <tr>\n",
       "      <th>1</th>\n",
       "      <td>It likely useful,to people</td>\n",
       "    </tr>\n",
       "    <tr>\n",
       "      <th>2</th>\n",
       "      <td>Machine learning new electrcity</td>\n",
       "    </tr>\n",
       "    <tr>\n",
       "      <th>3</th>\n",
       "      <td>There would less hype around AI action goingfo...</td>\n",
       "    </tr>\n",
       "    <tr>\n",
       "      <th>4</th>\n",
       "      <td>python best tool!</td>\n",
       "    </tr>\n",
       "  </tbody>\n",
       "</table>\n",
       "</div>"
      ],
      "text/plain": [
       "                                               tweet\n",
       "0                              This introduction NLP\n",
       "1                         It likely useful,to people\n",
       "2                    Machine learning new electrcity\n",
       "3  There would less hype around AI action goingfo...\n",
       "4                                  python best tool!"
      ]
     },
     "execution_count": 69,
     "metadata": {},
     "output_type": "execute_result"
    }
   ],
   "source": [
    "df.head()"
   ]
  },
  {
   "cell_type": "markdown",
   "id": "9a9d98a7",
   "metadata": {},
   "source": [
    "### 4.Standardizing Text"
   ]
  },
  {
   "cell_type": "markdown",
   "id": "4050c3be",
   "metadata": {},
   "source": [
    "Most of the text data is in the form of either customer reviews, blogs, or tweets,\n",
    "where there is a high chance of people using short words and abbreviations to\n",
    "represent the same meaning. This may help the downstream process to easily\n",
    "understand and resolve the semantics of the text"
   ]
  },
  {
   "cell_type": "markdown",
   "id": "b39c06b7",
   "metadata": {},
   "source": [
    "### 4.1 Create a custom lookup dictionary"
   ]
  },
  {
   "cell_type": "code",
   "execution_count": null,
   "id": "3094eec6",
   "metadata": {},
   "outputs": [],
   "source": [
    "lookup_dict = {'nlp':'natural language processing','ur':'your', \"wbu\" : \"what about you\"}"
   ]
  },
  {
   "cell_type": "code",
   "execution_count": 70,
   "id": "0062ea0b",
   "metadata": {},
   "outputs": [
    {
     "name": "stdout",
     "output_type": "stream",
     "text": [
      "{'nlp': 'natural language processing', 'ur': 'your', 'wbu': 'what about you'}\n"
     ]
    }
   ],
   "source": [
    "print(lookup_dict)\n",
    "import re"
   ]
  },
  {
   "cell_type": "markdown",
   "id": "4f111ea6",
   "metadata": {},
   "source": [
    "### 4.2 Create a custom function for text standardization"
   ]
  },
  {
   "cell_type": "code",
   "execution_count": 71,
   "id": "eefaaff6",
   "metadata": {},
   "outputs": [],
   "source": [
    "def text_std(input_text, lookup_dict):\n",
    "    words = input_text.split()\n",
    "    new_words = []\n",
    "    \n",
    "    for word in words:\n",
    "        # Remove any non-word and non-space characters from the word\n",
    "        word = re.sub(r'[^\\w\\s]', \"\", word)\n",
    "        \n",
    "        if word.lower() in lookup_dict:\n",
    "            # If the lowercase version of the word is found in the lookup_dict,\n",
    "            # replace it with the corresponding value from the dictionary\n",
    "            word = lookup_dict[word.lower()]\n",
    "            \n",
    "        new_words.append(word)\n",
    "    \n",
    "    new_text = \" \".join(new_words)\n",
    "    return new_text"
   ]
  },
  {
   "cell_type": "markdown",
   "id": "710bd3df",
   "metadata": {},
   "source": [
    "#### 4-3 Run the text_std function"
   ]
  },
  {
   "cell_type": "code",
   "execution_count": 72,
   "id": "e47d25e4",
   "metadata": {},
   "outputs": [
    {
     "data": {
      "text/plain": [
       "'I like natural language processing its your choice'"
      ]
     },
     "execution_count": 72,
     "metadata": {},
     "output_type": "execute_result"
    }
   ],
   "source": [
    "text_std(\"I like nlp it's ur choice\",lookup_dict)"
   ]
  },
  {
   "cell_type": "markdown",
   "id": "fc0d8f5b",
   "metadata": {},
   "source": [
    "### 5. Correcting Spelling"
   ]
  },
  {
   "cell_type": "markdown",
   "id": "823ec1b2",
   "metadata": {},
   "source": [
    "The simplest way to do this by using the TextBlob library."
   ]
  },
  {
   "cell_type": "markdown",
   "id": "4022fdc3",
   "metadata": {},
   "source": [
    "#### 5-1 Read/create the text data"
   ]
  },
  {
   "cell_type": "code",
   "execution_count": 83,
   "id": "70d4174d",
   "metadata": {},
   "outputs": [
    {
     "name": "stdout",
     "output_type": "stream",
     "text": [
      "                                  tweet\n",
      "0                   Introduction to NLP\n",
      "1  It is likely to be useful, topeople \n",
      "2  Machinelerning is the new electrcity\n",
      "3                    R is god langauage\n",
      "4                      I like this book\n",
      "5           I want more books like this\n"
     ]
    }
   ],
   "source": [
    "text=['Introduction to NLP','It is likely to be useful, topeople ','Machinelerning is the new electrcity', 'R is god langauage','I like this book','I want more books like this']\n",
    "#convert list to dataframe\n",
    "import pandas as pd\n",
    "df = pd.DataFrame({'tweet':text})\n",
    "print(df)"
   ]
  },
  {
   "cell_type": "markdown",
   "id": "b69da3ff",
   "metadata": {},
   "source": [
    "#### 5-2 Execute below code on the text data"
   ]
  },
  {
   "cell_type": "code",
   "execution_count": 74,
   "id": "c7a77f39",
   "metadata": {},
   "outputs": [
    {
     "name": "stdout",
     "output_type": "stream",
     "text": [
      "Requirement already satisfied: textblob in /Users/jothiramsanjeevi/opt/anaconda3/lib/python3.8/site-packages (0.17.1)\n",
      "Requirement already satisfied: nltk>=3.1 in /Users/jothiramsanjeevi/opt/anaconda3/lib/python3.8/site-packages (from textblob) (3.6.1)\n",
      "Requirement already satisfied: click in /Users/jothiramsanjeevi/opt/anaconda3/lib/python3.8/site-packages (from nltk>=3.1->textblob) (7.1.2)\n",
      "Requirement already satisfied: joblib in /Users/jothiramsanjeevi/opt/anaconda3/lib/python3.8/site-packages (from nltk>=3.1->textblob) (1.0.1)\n",
      "Requirement already satisfied: regex in /Users/jothiramsanjeevi/opt/anaconda3/lib/python3.8/site-packages (from nltk>=3.1->textblob) (2021.4.4)\n",
      "Requirement already satisfied: tqdm in /Users/jothiramsanjeevi/opt/anaconda3/lib/python3.8/site-packages (from nltk>=3.1->textblob) (4.59.0)\n",
      "\u001b[33mDEPRECATION: pyodbc 4.0.0-unsupported has a non-standard version number. pip 23.3 will enforce this behaviour change. A possible replacement is to upgrade to a newer version of pyodbc or contact the author to suggest that they release a version with a conforming version number. Discussion can be found at https://github.com/pypa/pip/issues/12063\u001b[0m\u001b[33m\n",
      "\u001b[0m"
     ]
    }
   ],
   "source": [
    "#Install textblob library\n",
    "!pip install textblob"
   ]
  },
  {
   "cell_type": "code",
   "execution_count": 75,
   "id": "df016aa7",
   "metadata": {},
   "outputs": [],
   "source": [
    "from textblob import TextBlob"
   ]
  },
  {
   "cell_type": "code",
   "execution_count": 84,
   "id": "f3cfbbbe",
   "metadata": {},
   "outputs": [
    {
     "data": {
      "text/plain": [
       "0                      Introduction to NLP\n",
       "1       It is likely to be useful, people \n",
       "2    Machinelerning is the new electricity\n",
       "3                        R is god language\n",
       "4                         I like this book\n",
       "5              I want more books like this\n",
       "Name: tweet, dtype: object"
      ]
     },
     "execution_count": 84,
     "metadata": {},
     "output_type": "execute_result"
    }
   ],
   "source": [
    "df['tweet'].apply(lambda x: str(TextBlob(x).correct()))"
   ]
  },
  {
   "cell_type": "code",
   "execution_count": null,
   "id": "53182011",
   "metadata": {},
   "outputs": [],
   "source": [
    "#You can also use autocorrect library as shown below\n",
    "#install autocorrect\n",
    "!pip install autocorrect\n"
   ]
  },
  {
   "cell_type": "code",
   "execution_count": 85,
   "id": "b253b2ca",
   "metadata": {},
   "outputs": [
    {
     "name": "stdout",
     "output_type": "stream",
     "text": [
      "Requirement already satisfied: pyspellchecker in /Users/jothiramsanjeevi/opt/anaconda3/lib/python3.8/site-packages (0.7.2)\n",
      "\u001b[33mDEPRECATION: pyodbc 4.0.0-unsupported has a non-standard version number. pip 23.3 will enforce this behaviour change. A possible replacement is to upgrade to a newer version of pyodbc or contact the author to suggest that they release a version with a conforming version number. Discussion can be found at https://github.com/pypa/pip/issues/12063\u001b[0m\u001b[33m\n",
      "\u001b[0m"
     ]
    }
   ],
   "source": [
    "!pip install pyspellchecker"
   ]
  },
  {
   "cell_type": "code",
   "execution_count": 86,
   "id": "d1a9c887",
   "metadata": {},
   "outputs": [],
   "source": [
    "from spellchecker import SpellChecker\n",
    "\n",
    "# Create a SpellChecker object\n",
    "spell = SpellChecker()\n"
   ]
  },
  {
   "cell_type": "code",
   "execution_count": 92,
   "id": "2f96cea8",
   "metadata": {},
   "outputs": [
    {
     "name": "stdout",
     "output_type": "stream",
     "text": [
      "machine\n"
     ]
    }
   ],
   "source": [
    "word = 'Macine'  # Misspelled word\n",
    "\n",
    "# Perform autocorrection\n",
    "corrected_word = spell.correction(word)\n",
    "print(corrected_word)"
   ]
  },
  {
   "cell_type": "markdown",
   "id": "7008cc68",
   "metadata": {},
   "source": [
    "### 6. Tokenizing Text"
   ]
  },
  {
   "cell_type": "markdown",
   "id": "5a1f8f63",
   "metadata": {},
   "source": [
    "Tokenization refers to\n",
    "splitting text into minimal meaningful units. There is a sentence tokenizer\n",
    "and word tokenizer. We will see a word tokenizer in this recipe, which is\n",
    "a mandatory step in text preprocessing for any kind of analysis. There are\n",
    "many libraries to perform tokenization like NLTK, SpaCy, and TextBlob.\n",
    "Here are a few ways to achieve it."
   ]
  },
  {
   "cell_type": "code",
   "execution_count": 93,
   "id": "658518f5",
   "metadata": {},
   "outputs": [
    {
     "name": "stdout",
     "output_type": "stream",
     "text": [
      "                                               tweet\n",
      "0                        This is introduction to NLP\n",
      "1               It is likely to be useful,to people \n",
      "2             Machine learning is the new electrcity\n",
      "3  There would be less hype around AI and more ac...\n",
      "4                           python is the best tool!\n",
      "5                                R is good langauage\n",
      "6                                   I like this book\n",
      "7                        I want more books like this\n"
     ]
    }
   ],
   "source": [
    "text=['This is introduction to NLP','It is likely to be useful,to people ','Machine learning is the new electrcity','There would be less hype around AI and more action goingforward','python is the best tool!','R is good langauage','I like this book','I want more books like this']\n",
    "#convert list to dataframe\n",
    "import pandas as pd\n",
    "df = pd.DataFrame({'tweet':text})\n",
    "print(df)"
   ]
  },
  {
   "cell_type": "markdown",
   "id": "d9ecf9e0",
   "metadata": {},
   "source": [
    "#### 6-1 Execute below code on the text data"
   ]
  },
  {
   "cell_type": "code",
   "execution_count": 94,
   "id": "0d444f46",
   "metadata": {},
   "outputs": [
    {
     "name": "stdout",
     "output_type": "stream",
     "text": [
      "Requirement already satisfied: Textblob in /Users/jothiramsanjeevi/opt/anaconda3/lib/python3.8/site-packages (0.17.1)\n",
      "Requirement already satisfied: nltk>=3.1 in /Users/jothiramsanjeevi/opt/anaconda3/lib/python3.8/site-packages (from Textblob) (3.6.1)\n",
      "Requirement already satisfied: click in /Users/jothiramsanjeevi/opt/anaconda3/lib/python3.8/site-packages (from nltk>=3.1->Textblob) (7.1.2)\n",
      "Requirement already satisfied: joblib in /Users/jothiramsanjeevi/opt/anaconda3/lib/python3.8/site-packages (from nltk>=3.1->Textblob) (1.0.1)\n",
      "Requirement already satisfied: regex in /Users/jothiramsanjeevi/opt/anaconda3/lib/python3.8/site-packages (from nltk>=3.1->Textblob) (2021.4.4)\n",
      "Requirement already satisfied: tqdm in /Users/jothiramsanjeevi/opt/anaconda3/lib/python3.8/site-packages (from nltk>=3.1->Textblob) (4.59.0)\n",
      "\u001b[33mDEPRECATION: pyodbc 4.0.0-unsupported has a non-standard version number. pip 23.3 will enforce this behaviour change. A possible replacement is to upgrade to a newer version of pyodbc or contact the author to suggest that they release a version with a conforming version number. Discussion can be found at https://github.com/pypa/pip/issues/12063\u001b[0m\u001b[33m\n",
      "\u001b[0m"
     ]
    }
   ],
   "source": [
    "!pip install Textblob"
   ]
  },
  {
   "cell_type": "code",
   "execution_count": 95,
   "id": "2e537240",
   "metadata": {},
   "outputs": [
    {
     "data": {
      "text/plain": [
       "WordList(['There', 'would', 'be', 'less', 'hype', 'around', 'AI', 'and', 'more', 'action', 'goingforward'])"
      ]
     },
     "execution_count": 95,
     "metadata": {},
     "output_type": "execute_result"
    }
   ],
   "source": [
    "from textblob import TextBlob\n",
    "TextBlob(df['tweet'][3]).words"
   ]
  },
  {
   "cell_type": "code",
   "execution_count": 96,
   "id": "05c7992f",
   "metadata": {},
   "outputs": [
    {
     "name": "stderr",
     "output_type": "stream",
     "text": [
      "[nltk_data] Downloading package punkt to\n",
      "[nltk_data]     /Users/jothiramsanjeevi/nltk_data...\n",
      "[nltk_data]   Package punkt is already up-to-date!\n"
     ]
    }
   ],
   "source": [
    "import nltk\n",
    "nltk.download('punkt')\n",
    "from nltk.tokenize import word_tokenize, sent_tokenize\n"
   ]
  },
  {
   "cell_type": "code",
   "execution_count": 97,
   "id": "285e42ca",
   "metadata": {},
   "outputs": [
    {
     "data": {
      "text/plain": [
       "['My', 'favorite', 'animal', 'is', 'cat']"
      ]
     },
     "execution_count": 97,
     "metadata": {},
     "output_type": "execute_result"
    }
   ],
   "source": [
    "#using NLTK\n",
    "import nltk\n",
    "#create data\n",
    "mystring = \"My favorite animal is cat\"\n",
    "nltk.word_tokenize(mystring)"
   ]
  },
  {
   "cell_type": "markdown",
   "id": "02bbaecd",
   "metadata": {},
   "source": [
    "### 7. Stemming"
   ]
  },
  {
   "cell_type": "markdown",
   "id": "b846f845",
   "metadata": {},
   "source": [
    "In Natural Language Processing (NLP), stemming is the process of reducing a word to its base or root form, known as the stem. The stem represents the core meaning of a word, and by reducing words to their stems, we can group together words that have the same or similar meanings.\n",
    "\n",
    "The purpose of stemming is to normalize words so that variations of the same word are treated as a single entity during text analysis. It helps in reducing the vocabulary size and achieving better results in tasks such as information retrieval, text classification, and sentiment analysis."
   ]
  },
  {
   "cell_type": "code",
   "execution_count": 98,
   "id": "57ee048c",
   "metadata": {},
   "outputs": [
    {
     "name": "stdout",
     "output_type": "stream",
     "text": [
      "                            tweet\n",
      "0                  I like fishing\n",
      "1                      I eat fish\n",
      "2  There are many fishes in pound\n"
     ]
    }
   ],
   "source": [
    "text=['I like fishing','I eat fish','There are many fishes in pound']\n",
    "#convert list to dataframe\n",
    "import pandas as pd\n",
    "df = pd.DataFrame({'tweet':text})\n",
    "print(df)"
   ]
  },
  {
   "cell_type": "markdown",
   "id": "6074d593",
   "metadata": {},
   "source": [
    "#### 7-1 Stemming the text"
   ]
  },
  {
   "cell_type": "code",
   "execution_count": 99,
   "id": "f053679d",
   "metadata": {},
   "outputs": [],
   "source": [
    "#Import library\n",
    "from nltk.stem import PorterStemmer"
   ]
  },
  {
   "cell_type": "code",
   "execution_count": 101,
   "id": "3efda6ed",
   "metadata": {},
   "outputs": [
    {
     "data": {
      "text/plain": [
       "0                    I like fishing\n",
       "1                        I eat fish\n",
       "2    There are many fishes in pound\n",
       "Name: tweet, dtype: object"
      ]
     },
     "execution_count": 101,
     "metadata": {},
     "output_type": "execute_result"
    }
   ],
   "source": [
    "df['tweet']"
   ]
  },
  {
   "cell_type": "code",
   "execution_count": 102,
   "id": "313fa12d",
   "metadata": {},
   "outputs": [
    {
     "data": {
      "text/plain": [
       "0                     i like fish\n",
       "1                      i eat fish\n",
       "2    there are mani fish in pound\n",
       "Name: tweet, dtype: object"
      ]
     },
     "execution_count": 102,
     "metadata": {},
     "output_type": "execute_result"
    }
   ],
   "source": [
    "st = PorterStemmer()\n",
    "df['tweet'].apply(lambda x: \" \".join([st.stem(word) for word in x.split()]))"
   ]
  },
  {
   "cell_type": "markdown",
   "id": "7dece441",
   "metadata": {},
   "source": [
    "### 8. Lemmatizing"
   ]
  },
  {
   "cell_type": "markdown",
   "id": "197c7c10",
   "metadata": {},
   "source": [
    "Lemmatization is the process of reducing words to their base or dictionary form, known as the lemma. Unlike stemming, which truncates words to their root form using heuristics, lemmatization considers the morphological analysis of words to generate the lemma.\n",
    "\n",
    "The goal of lemmatization is to transform words into a canonical or normalized form, allowing different inflected forms of a word to be treated as a single term. This helps in tasks such as information retrieval, text analysis, and language understanding, where it is desirable to reduce words to their essential meaning."
   ]
  },
  {
   "cell_type": "markdown",
   "id": "632e100a",
   "metadata": {},
   "source": [
    "The part of speech of a word is determined in lemmatization. It will\n",
    "return the dictionary form of a word, which must be a valid word while\n",
    "stemming just extracts the root word.\n",
    "- Lemmatization handles matching “car” to “cars” along with matching “car” to “automobile.”\n",
    "- Stemming handles matching “car” to “cars.”\n",
    "Lemmatization can get better results.\n",
    "- The stemmed form of leafs is leaf.\n",
    "- The stemmed form of leaves is leav.\n",
    "- The lemmatized form of leafs is leaf.\n",
    "- The lemmatized form of leaves is leaf"
   ]
  },
  {
   "cell_type": "markdown",
   "id": "d3eb3d2d",
   "metadata": {},
   "source": [
    "### 8.1 Lemmatizing the data"
   ]
  },
  {
   "cell_type": "code",
   "execution_count": 103,
   "id": "3622a833",
   "metadata": {},
   "outputs": [
    {
     "name": "stderr",
     "output_type": "stream",
     "text": [
      "[nltk_data] Downloading package wordnet to\n",
      "[nltk_data]     /Users/jothiramsanjeevi/nltk_data...\n",
      "[nltk_data]   Package wordnet is already up-to-date!\n"
     ]
    },
    {
     "data": {
      "text/plain": [
       "True"
      ]
     },
     "execution_count": 103,
     "metadata": {},
     "output_type": "execute_result"
    }
   ],
   "source": [
    "nltk.download('wordnet')"
   ]
  },
  {
   "cell_type": "code",
   "execution_count": 104,
   "id": "50df3d0a",
   "metadata": {},
   "outputs": [
    {
     "name": "stdout",
     "output_type": "stream",
     "text": [
      "running => running\n",
      "runs => run\n",
      "ran => ran\n",
      "runner => runner\n",
      "runningly => runningly\n"
     ]
    },
    {
     "name": "stderr",
     "output_type": "stream",
     "text": [
      "[nltk_data] Downloading package wordnet to\n",
      "[nltk_data]     /Users/jothiramsanjeevi/nltk_data...\n",
      "[nltk_data]   Package wordnet is already up-to-date!\n"
     ]
    }
   ],
   "source": [
    "import nltk\n",
    "nltk.download('wordnet')\n",
    "from nltk.stem import WordNetLemmatizer\n",
    "\n",
    "# Create a WordNetLemmatizer object\n",
    "lemmatizer = WordNetLemmatizer()\n",
    "\n",
    "# Example words for lemmatization\n",
    "words = [\"running\", \"runs\", \"ran\", \"runner\", \"runningly\"]\n",
    "\n",
    "# Lemmatize the words\n",
    "lemmatized_words = [lemmatizer.lemmatize(word) for word in words]\n",
    "\n",
    "# Print the lemmatized words\n",
    "for word, lemmatized_word in zip(words, lemmatized_words):\n",
    "    print(f\"{word} => {lemmatized_word}\")\n"
   ]
  },
  {
   "cell_type": "markdown",
   "id": "78e943c8",
   "metadata": {},
   "source": [
    "## |9. Exploring Text Data"
   ]
  },
  {
   "cell_type": "markdown",
   "id": "846ea034",
   "metadata": {},
   "source": [
    "### 9-1 Read the text data"
   ]
  },
  {
   "cell_type": "code",
   "execution_count": 105,
   "id": "f739bd0e",
   "metadata": {},
   "outputs": [
    {
     "name": "stderr",
     "output_type": "stream",
     "text": [
      "[nltk_data] Downloading package webtext to\n",
      "[nltk_data]     /Users/jothiramsanjeevi/nltk_data...\n",
      "[nltk_data]   Package webtext is already up-to-date!\n"
     ]
    }
   ],
   "source": [
    "#Importing data\n",
    "import nltk\n",
    "from nltk.corpus import webtext\n",
    "nltk.download('webtext')\n",
    "wt_sentences = webtext.sents('firefox.txt')\n",
    "wt_words = webtext.words('firefox.txt')"
   ]
  },
  {
   "cell_type": "markdown",
   "id": "370bd9dd",
   "metadata": {},
   "source": [
    "### 9-2 Import necessary libraries"
   ]
  },
  {
   "cell_type": "code",
   "execution_count": 107,
   "id": "5a553342",
   "metadata": {},
   "outputs": [],
   "source": [
    "from nltk.probability import FreqDist\n",
    "from nltk.corpus import stopwords\n",
    "import string"
   ]
  },
  {
   "cell_type": "markdown",
   "id": "7a28d1d1",
   "metadata": {},
   "source": [
    "### 9-3 Check number of words in the data"
   ]
  },
  {
   "cell_type": "code",
   "execution_count": 108,
   "id": "8e75d6d2",
   "metadata": {},
   "outputs": [
    {
     "name": "stdout",
     "output_type": "stream",
     "text": [
      "1142\n",
      "102457\n"
     ]
    }
   ],
   "source": [
    "print(len(wt_sentences))\n",
    "print(len(wt_words))"
   ]
  },
  {
   "cell_type": "code",
   "execution_count": 109,
   "id": "f1ecd645",
   "metadata": {},
   "outputs": [
    {
     "name": "stdout",
     "output_type": "stream",
     "text": [
      "[['Cookie', 'Manager', ':', '\"', 'Don', \"'\", 't', 'allow', 'sites', 'that', 'set', 'removed', 'cookies', 'to', 'set', 'future', 'cookies', '\"', 'should', 'stay', 'checked', 'When', 'in', 'full', 'screen', 'mode', 'Pressing', 'Ctrl', '-', 'N', 'should', 'open', 'a', 'new', 'browser', 'when', 'only', 'download', 'dialog', 'is', 'left', 'open', 'add', 'icons', 'to', 'context', 'menu', 'So', 'called', '\"', 'tab', 'bar', '\"', 'should', 'be', 'made', 'a', 'proper', 'toolbar', 'or', 'given', 'the', 'ability', 'collapse', '/', 'expand', '.'], ['[', 'XUL', ']', 'Implement', 'Cocoa', '-', 'style', 'toolbar', 'customization', '.'], ...]\n",
      "['Cookie', 'Manager', ':', '\"', 'Don', \"'\", 't', ...]\n"
     ]
    }
   ],
   "source": [
    "print((wt_sentences))\n",
    "print((wt_words))"
   ]
  },
  {
   "cell_type": "markdown",
   "id": "b8e24602",
   "metadata": {},
   "source": [
    "### 9-4 Compute the frequency of all words in the reviews"
   ]
  },
  {
   "cell_type": "code",
   "execution_count": 110,
   "id": "7f697498",
   "metadata": {},
   "outputs": [
    {
     "data": {
      "text/plain": [
       "FreqDist({'.': 2428, 'in': 2203, 'to': 2130, '\"': 1971, 'the': 1762, \"'\": 1507, 'not': 1472, '-': 1372, 'when': 1255, 'on': 1193, ...})"
      ]
     },
     "execution_count": 110,
     "metadata": {},
     "output_type": "execute_result"
    }
   ],
   "source": [
    "frequency_dist = nltk.FreqDist(wt_words)\n",
    "frequency_dist"
   ]
  },
  {
   "cell_type": "code",
   "execution_count": 112,
   "id": "ce63f59f",
   "metadata": {},
   "outputs": [
    {
     "data": {
      "text/plain": [
       "['N', 'So', 'Cocoa', 'tinderboxen', 'tearing']"
      ]
     },
     "execution_count": 112,
     "metadata": {},
     "output_type": "execute_result"
    }
   ],
   "source": [
    "sorted_frequency_dist =sorted(frequency_dist,key=frequency_dist.__getitem__, reverse=False)\n",
    "sorted_frequency_dist[0:5]"
   ]
  },
  {
   "cell_type": "markdown",
   "id": "ef438180",
   "metadata": {},
   "source": [
    "### 9-5 Consider words with length greater than 3 and plot"
   ]
  },
  {
   "cell_type": "code",
   "execution_count": 113,
   "id": "8b160172",
   "metadata": {},
   "outputs": [],
   "source": [
    "large_words=dict([(k,v) for k,v in frequency_dist.items() if len(k)>3])"
   ]
  },
  {
   "cell_type": "code",
   "execution_count": 114,
   "id": "f861d1dc",
   "metadata": {},
   "outputs": [
    {
     "data": {
      "image/png": "[encoded data removed]",
      "text/plain": [
       "<Figure size 432x288 with 1 Axes>"
      ]
     },
     "metadata": {
      "needs_background": "light"
     },
     "output_type": "display_data"
    },
    {
     "data": {
      "text/plain": [
       "<AxesSubplot:xlabel='Samples', ylabel='Counts'>"
      ]
     },
     "execution_count": 114,
     "metadata": {},
     "output_type": "execute_result"
    }
   ],
   "source": [
    "frequency_dist = nltk.FreqDist(large_words)\n",
    "frequency_dist.plot(50,cumulative=False)"
   ]
  },
  {
   "cell_type": "markdown",
   "id": "dc803a7f",
   "metadata": {},
   "source": [
    "### 9-6 Build Wordcloud"
   ]
  },
  {
   "cell_type": "code",
   "execution_count": 115,
   "id": "0c35a4a8",
   "metadata": {},
   "outputs": [
    {
     "name": "stdout",
     "output_type": "stream",
     "text": [
      "Requirement already satisfied: wordcloud in /Users/jothiramsanjeevi/opt/anaconda3/lib/python3.8/site-packages (1.9.2)\n",
      "Requirement already satisfied: numpy>=1.6.1 in /Users/jothiramsanjeevi/opt/anaconda3/lib/python3.8/site-packages (from wordcloud) (1.20.1)\n",
      "Requirement already satisfied: pillow in /Users/jothiramsanjeevi/opt/anaconda3/lib/python3.8/site-packages (from wordcloud) (10.0.0)\n",
      "Requirement already satisfied: matplotlib in /Users/jothiramsanjeevi/opt/anaconda3/lib/python3.8/site-packages (from wordcloud) (3.3.4)\n",
      "Requirement already satisfied: cycler>=0.10 in /Users/jothiramsanjeevi/opt/anaconda3/lib/python3.8/site-packages (from matplotlib->wordcloud) (0.10.0)\n",
      "Requirement already satisfied: kiwisolver>=1.0.1 in /Users/jothiramsanjeevi/opt/anaconda3/lib/python3.8/site-packages (from matplotlib->wordcloud) (1.3.1)\n",
      "Requirement already satisfied: pyparsing!=2.0.4,!=2.1.2,!=2.1.6,>=2.0.3 in /Users/jothiramsanjeevi/opt/anaconda3/lib/python3.8/site-packages (from matplotlib->wordcloud) (2.4.7)\n",
      "Requirement already satisfied: python-dateutil>=2.1 in /Users/jothiramsanjeevi/opt/anaconda3/lib/python3.8/site-packages (from matplotlib->wordcloud) (2.8.1)\n",
      "Requirement already satisfied: six in /Users/jothiramsanjeevi/opt/anaconda3/lib/python3.8/site-packages (from cycler>=0.10->matplotlib->wordcloud) (1.15.0)\n",
      "\u001b[33mDEPRECATION: pyodbc 4.0.0-unsupported has a non-standard version number. pip 23.3 will enforce this behaviour change. A possible replacement is to upgrade to a newer version of pyodbc or contact the author to suggest that they release a version with a conforming version number. Discussion can be found at https://github.com/pypa/pip/issues/12063\u001b[0m\u001b[33m\n",
      "\u001b[0m"
     ]
    }
   ],
   "source": [
    "#install library\n",
    "!pip install wordcloud"
   ]
  },
  {
   "cell_type": "code",
   "execution_count": 116,
   "id": "40dbd362",
   "metadata": {},
   "outputs": [
    {
     "data": {
      "image/png": "[encoded data removed]",
      "text/plain": [
       "<Figure size 432x288 with 1 Axes>"
      ]
     },
     "metadata": {
      "needs_background": "light"
     },
     "output_type": "display_data"
    }
   ],
   "source": [
    "from wordcloud import WordCloud\n",
    "\n",
    "\n",
    "# Create a WordCloud object and generate the word cloud\n",
    "wordcloud = WordCloud()\n",
    "wordcloud.generate_from_frequencies(frequency_dist)\n",
    "# Display the word cloud using matplotlib\n",
    "import matplotlib.pyplot as plt\n",
    "plt.imshow(wordcloud, interpolation='bilinear')\n",
    "plt.axis(\"off\")\n",
    "plt.axis(\"off\")\n",
    "(-0.5, 399.5, 199.5, -0.5)\n",
    "plt.show()\n",
    "plt.show()\n",
    "\n"
   ]
  },
  {
   "cell_type": "code",
   "execution_count": null,
   "id": "0836fa2a",
   "metadata": {},
   "outputs": [],
   "source": [
    "pip install --upgrade Pillow"
   ]
  },
  {
   "cell_type": "markdown",
   "id": "8a27a44f",
   "metadata": {},
   "source": [
    "## 10. Building a Text Preprocessing Pipeline"
   ]
  },
  {
   "cell_type": "code",
   "execution_count": null,
   "id": "1123cff5",
   "metadata": {},
   "outputs": [],
   "source": [
    "tweet_sample= \"How to take control of your #debt https://personal.vanguard.com/us/insights/saving-investing/debt-management.#Best advice for #family #financial #success (@PrepareToWin)\""
   ]
  },
  {
   "cell_type": "markdown",
   "id": "812f13eb",
   "metadata": {},
   "source": [
    "### 10-1 Process the text"
   ]
  },
  {
   "cell_type": "code",
   "execution_count": null,
   "id": "d21c574b",
   "metadata": {},
   "outputs": [],
   "source": [
    "import re\n",
    "from nltk.corpus import stopwords\n",
    "from nltk.stem import PorterStemmer\n",
    "from textblob import Word\n",
    "from nltk.tokenize import word_tokenize\n",
    "\n",
    "def processRow(row):\n",
    "    # Convert the input row to lowercase\n",
    "    tweet = row.lower()\n",
    "\n",
    "    # Removes unicode strings like \"\\u002c\" and \"x96\"\n",
    "    tweet = re.sub(r'(\\\\u[0-9A-Fa-f]+)', '', tweet)\n",
    "    tweet = re.sub(r'[^\\x00-\\x7f]', '', tweet)\n",
    "\n",
    "    # Convert any url to 'URL'\n",
    "    tweet = re.sub('((www\\.[^\\s]+)|(https?://[^\\s]+))', 'URL', tweet)\n",
    "\n",
    "    # Convert any @Username to 'AT_USER'\n",
    "    tweet = re.sub('@[^\\s]+', 'AT_USER', tweet)\n",
    "\n",
    "    # Remove additional white spaces and newlines\n",
    "    tweet = re.sub('[\\s]+', ' ', tweet)\n",
    "    tweet = re.sub('[\\n]+', ' ', tweet)\n",
    "\n",
    "    # Remove not alphanumeric symbols and white spaces\n",
    "    tweet = re.sub(r'[^\\w]', ' ', tweet)\n",
    "\n",
    "    # Remove hashtags in front of a word\n",
    "    tweet = re.sub(r'#([^\\s]+)', r'\\1', tweet)\n",
    "\n",
    "    # Replace multiple exclamation, question marks, and dots with a single one\n",
    "    tweet = re.sub(r'(\\!)\\1+', '!', tweet)\n",
    "    tweet = re.sub(r'(\\?)\\1+', '?', tweet)\n",
    "    tweet = re.sub(r'(\\.)\\1+', '.', tweet)\n",
    "\n",
    "    # Remove emoticons from text\n",
    "    tweet = re.sub(':\\)|;\\)|:-\\)|\\(-:|:-D|=D|:P|xD|X-p|\\^\\^|:-*|\\^\\.\\^|\\^\\-\\^|\\^\\_\\^|\\,-\\)|\\)-:|:\\'\\(|:\\(|:-\\(|:\\S|T\\.T|\\.\\_\\.|:<|:-\\S|:-<|\\*\\-\\*|:O|=O|=\\-O|O\\.o|XO|O\\_O|:-\\@|=/|:/|X\\-\\(|>\\.<|>=\\(|D:', \"\", tweet)\n",
    "\n",
    "    # Tokenize the tweet into individual words\n",
    "    words = word_tokenize(tweet)\n",
    "\n",
    "    # Remove stopwords\n",
    "    stop_words = set(stopwords.words('english'))\n",
    "    words = [word for word in words if word not in stop_words]\n",
    "\n",
    "    # Lemmatize the words\n",
    "    words = [Word(word).lemmatize() for word in words]\n",
    "\n",
    "    # Stem the words\n",
    "    st = PorterStemmer()\n",
    "    words = [st.stem(word) for word in words]\n",
    "\n",
    "    # Join the processed words back into a single text string\n",
    "    processed_text = \" \".join(words)\n",
    "\n",
    "    return processed_text\n"
   ]
  },
  {
   "cell_type": "code",
   "execution_count": 117,
   "id": "9fb6e513",
   "metadata": {},
   "outputs": [
    {
     "data": {
      "text/plain": [
       "'take control debt url advic famili financi success at_us'"
      ]
     },
     "execution_count": 117,
     "metadata": {},
     "output_type": "execute_result"
    }
   ],
   "source": [
    "#call the function with your data\n",
    "processRow(tweet_sample)"
   ]
  },
  {
   "cell_type": "code",
   "execution_count": 118,
   "id": "517c78e8",
   "metadata": {},
   "outputs": [],
   "source": [
    "tweet1= \"Disneyland Paris (@DisneylandParis) is the first brand in France to use the new 360 video format, allowing 360-degree videos to be uploaded and viewed directly on its timeline.To get the most out of 360-degree videos, move to the middle of the image and, if on a mobile device, use your finger, or on a desktop, click and drag with the cursor.\""
   ]
  },
  {
   "cell_type": "code",
   "execution_count": 119,
   "id": "cdcf21fa",
   "metadata": {},
   "outputs": [
    {
     "data": {
      "text/plain": [
       "'disneyland pari at_us first brand franc use new 360 video format allow 360 degre video upload view directli timelin get 360 degre video move middl imag mobil devic use finger desktop click drag cursor'"
      ]
     },
     "execution_count": 119,
     "metadata": {},
     "output_type": "execute_result"
    }
   ],
   "source": [
    "processRow(tweet1)"
   ]
  },
  {
   "cell_type": "code",
   "execution_count": null,
   "id": "5383e714",
   "metadata": {},
   "outputs": [],
   "source": []
  }
 ],
 "metadata": {
  "kernelspec": {
   "display_name": "Python 3",
   "language": "python",
   "name": "python3"
  },
  "language_info": {
   "codemirror_mode": {
    "name": "ipython",
    "version": 3
   },
   "file_extension": ".py",
   "mimetype": "text/x-python",
   "name": "python",
   "nbconvert_exporter": "python",
   "pygments_lexer": "ipython3",
   "version": "3.8.8"
  }
 },
 "nbformat": 4,
 "nbformat_minor": 5
}
