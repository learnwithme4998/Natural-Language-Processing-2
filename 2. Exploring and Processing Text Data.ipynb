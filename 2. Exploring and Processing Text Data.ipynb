{
 "cells": [
  {
   "cell_type": "markdown",
   "id": "072fca1b",
   "metadata": {},
   "source": [
    "# Exploring and Processing Text Data"
   ]
  },
  {
   "cell_type": "markdown",
   "id": "7fbae321",
   "metadata": {},
   "source": [
    "- Lowercasing\n",
    "- Punctuation removal\n",
    "- Stop words removal\n",
    "- Text standardization\n",
    "- Spelling correction\n",
    "- Tokenization\n",
    "- Stemming\n",
    "- Lemmatization\n",
    "- Exploratory data analysis\n",
    "- End-to-end processing pipeline"
   ]
  },
  {
   "cell_type": "markdown",
   "id": "538fb73c",
   "metadata": {},
   "source": [
    "### 1.Converting Text Data to Lowercase"
   ]
  },
  {
   "cell_type": "markdown",
   "id": "0e3416eb",
   "metadata": {},
   "source": [
    "The lower() method converts all uppercase characters in a string into\n",
    "lowercase characters and returns them."
   ]
  },
  {
   "cell_type": "markdown",
   "id": "a1063d59",
   "metadata": {},
   "source": [
    "#### 1.1 Read/create the text data"
   ]
  },
  {
   "cell_type": "code",
   "execution_count": 2,
   "id": "5138ba66",
   "metadata": {},
   "outputs": [],
   "source": [
    "text=['This is introduction to NLP','It is likely to be useful,to people ','Machine learning is the new electrcity','Therewould be less hype around AI and more action goingforward','python is the best tool!','R is good langauage','Ilike this book','I want more books like this']"
   ]
  },
  {
   "cell_type": "code",
   "execution_count": 3,
   "id": "271bfb9e",
   "metadata": {},
   "outputs": [
    {
     "name": "stdout",
     "output_type": "stream",
     "text": [
      "['This is introduction to NLP', 'It is likely to be useful,to people ', 'Machine learning is the new electrcity', 'Therewould be less hype around AI and more action goingforward', 'python is the best tool!', 'R is good langauage', 'Ilike this book', 'I want more books like this']\n"
     ]
    }
   ],
   "source": [
    "print(text)"
   ]
  },
  {
   "cell_type": "code",
   "execution_count": 4,
   "id": "c3a14c1c",
   "metadata": {},
   "outputs": [
    {
     "name": "stdout",
     "output_type": "stream",
     "text": [
      "                                               tweet\n",
      "0                        This is introduction to NLP\n",
      "1               It is likely to be useful,to people \n",
      "2             Machine learning is the new electrcity\n",
      "3  Therewould be less hype around AI and more act...\n",
      "4                           python is the best tool!\n",
      "5                                R is good langauage\n",
      "6                                    Ilike this book\n",
      "7                        I want more books like this\n"
     ]
    }
   ],
   "source": [
    "#convert list to data frame\n",
    "import pandas as pd\n",
    "df = pd.DataFrame({'tweet':text})\n",
    "print(df)"
   ]
  },
  {
   "cell_type": "markdown",
   "id": "4e6db535",
   "metadata": {},
   "source": [
    "#### 1-2 Execute lower() function on the text data"
   ]
  },
  {
   "cell_type": "code",
   "execution_count": 6,
   "id": "1c3ec433",
   "metadata": {},
   "outputs": [
    {
     "name": "stdout",
     "output_type": "stream",
     "text": [
      "testing\n"
     ]
    }
   ],
   "source": [
    "x = 'Testing'\n",
    "x2 = x.lower()\n",
    "print(x2)"
   ]
  },
  {
   "cell_type": "code",
   "execution_count": 7,
   "id": "cc62ed71",
   "metadata": {},
   "outputs": [
    {
     "data": {
      "text/plain": [
       "0                          this is introduction to nlp\n",
       "1                  it is likely to be useful,to people\n",
       "2               machine learning is the new electrcity\n",
       "3    therewould be less hype around ai and more act...\n",
       "4                             python is the best tool!\n",
       "5                                  r is good langauage\n",
       "6                                      ilike this book\n",
       "7                          i want more books like this\n",
       "Name: tweet, dtype: object"
      ]
     },
     "execution_count": 7,
     "metadata": {},
     "output_type": "execute_result"
    }
   ],
   "source": [
    "df['tweet'] = df['tweet'].apply(lambda x: \" \".join(x.lower() for x in x.split()))\n",
    "df['tweet']"
   ]
  },
  {
   "cell_type": "markdown",
   "id": "6460e7fd",
   "metadata": {},
   "source": [
    "### 2.Removing Punctuation"
   ]
  },
  {
   "cell_type": "markdown",
   "id": "1bf3c2b8",
   "metadata": {},
   "source": [
    "The simplest way to do this is by using the regex and replace() function in\n",
    "Python."
   ]
  },
  {
   "cell_type": "code",
   "execution_count": 9,
   "id": "6767e83a",
   "metadata": {},
   "outputs": [
    {
     "name": "stdout",
     "output_type": "stream",
     "text": [
      "                                               tweet\n",
      "0                        This is introduction to NLP\n",
      "1               It is likely to be useful,to people \n",
      "2             Machine learning is the new electrcity\n",
      "3  There would be less hype around AI and more ac...\n",
      "4                           python is the best tool!\n",
      "5                                R is good langauage\n",
      "6                                   I like this book\n",
      "7                        I want more books like this\n"
     ]
    }
   ],
   "source": [
    "text=['This is introduction to NLP','It is likely to be useful,to people ','Machine learning is the new electrcity',\n",
    "'There would be less hype around AI and more action goingforward','python is the best tool!','R is good langauage','I like this book','I want more books like this']\n",
    "#convert list to dataframe\n",
    "import pandas as pd\n",
    "df = pd.DataFrame({'tweet':text})\n",
    "print(df)"
   ]
  },
  {
   "cell_type": "markdown",
   "id": "04fbdfed",
   "metadata": {},
   "source": [
    "#### 2-1 Execute below function on the text data"
   ]
  },
  {
   "cell_type": "code",
   "execution_count": 12,
   "id": "ba0fe595",
   "metadata": {},
   "outputs": [],
   "source": [
    "import re\n",
    "s = \"I. like. This book!\"\n",
    "s1 = re.sub(r'[^\\w\\s]',\"\",s)"
   ]
  },
  {
   "cell_type": "code",
   "execution_count": 13,
   "id": "35c6da7c",
   "metadata": {},
   "outputs": [
    {
     "data": {
      "text/plain": [
       "'I like This book'"
      ]
     },
     "execution_count": 13,
     "metadata": {},
     "output_type": "execute_result"
    }
   ],
   "source": [
    "s1"
   ]
  },
  {
   "cell_type": "code",
   "execution_count": 15,
   "id": "0dd901c7",
   "metadata": {},
   "outputs": [
    {
     "name": "stderr",
     "output_type": "stream",
     "text": [
      "<ipython-input-15-d5b5c85bdfc1>:1: FutureWarning: The default value of regex will change from True to False in a future version.\n",
      "  df['tweet'] = df['tweet'].str.replace('[^\\w\\s]',\"\")\n"
     ]
    },
    {
     "data": {
      "text/plain": [
       "0                          This is introduction to NLP\n",
       "1                  It is likely to be usefulto people \n",
       "2               Machine learning is the new electrcity\n",
       "3    There would be less hype around AI and more ac...\n",
       "4                              python is the best tool\n",
       "5                                  R is good langauage\n",
       "6                                     I like this book\n",
       "7                          I want more books like this\n",
       "Name: tweet, dtype: object"
      ]
     },
     "execution_count": 15,
     "metadata": {},
     "output_type": "execute_result"
    }
   ],
   "source": [
    "df['tweet'] = df['tweet'].str.replace('[^\\w\\s]',\"\")\n",
    "df['tweet']"
   ]
  },
  {
   "cell_type": "code",
   "execution_count": 17,
   "id": "45dcfdb3",
   "metadata": {},
   "outputs": [],
   "source": [
    "import string\n",
    "s = \"I. like. This book!\"\n",
    "for c in string.punctuation:\n",
    "    s= s.replace(c,\"\")"
   ]
  },
  {
   "cell_type": "code",
   "execution_count": 18,
   "id": "119e1a77",
   "metadata": {},
   "outputs": [
    {
     "name": "stdout",
     "output_type": "stream",
     "text": [
      "I like This book\n"
     ]
    }
   ],
   "source": [
    "print(s)"
   ]
  },
  {
   "cell_type": "markdown",
   "id": "23bb1b65",
   "metadata": {},
   "source": [
    "### 3. Removing Stop Words"
   ]
  },
  {
   "cell_type": "markdown",
   "id": "17ef8975",
   "metadata": {},
   "source": [
    "The simplest way to do this by using the NLTK library, or you can build\n",
    "your own stop words file."
   ]
  },
  {
   "cell_type": "code",
   "execution_count": 18,
   "id": "8b0d67dd",
   "metadata": {},
   "outputs": [],
   "source": [
    "text=['This is introduction to NLP','It is likely to be useful,to people ','Machine learning is the new electrcity',\n",
    "'There would be less hype around AI and more action goingforward','python is the best tool!','R is good langauage','I likethis book','I want more books like this']"
   ]
  },
  {
   "cell_type": "code",
   "execution_count": 19,
   "id": "c869ddfd",
   "metadata": {},
   "outputs": [
    {
     "name": "stdout",
     "output_type": "stream",
     "text": [
      "                                               tweet\n",
      "0                        This is introduction to NLP\n",
      "1               It is likely to be useful,to people \n",
      "2             Machine learning is the new electrcity\n",
      "3  There would be less hype around AI and more ac...\n",
      "4                           python is the best tool!\n",
      "5                                R is good langauage\n",
      "6                                    I likethis book\n",
      "7                        I want more books like this\n"
     ]
    }
   ],
   "source": [
    "#convert list to data frame\n",
    "import pandas as pd\n",
    "df = pd.DataFrame({'tweet':text})\n",
    "print(df)"
   ]
  },
  {
   "cell_type": "code",
   "execution_count": 20,
   "id": "ee9f0241",
   "metadata": {},
   "outputs": [],
   "source": [
    "import nltk\n",
    "from nltk.corpus import stopwords"
   ]
  },
  {
   "cell_type": "code",
   "execution_count": 21,
   "id": "d156787a",
   "metadata": {},
   "outputs": [],
   "source": [
    "#remove stop words\n",
    "stop = stopwords.words('english')\n",
    "df['tweet'] = df['tweet'].apply(lambda x: \" \".join(x for x in x.split() if x not in stop))"
   ]
  },
  {
   "cell_type": "code",
   "execution_count": 22,
   "id": "8df6d851",
   "metadata": {},
   "outputs": [
    {
     "data": {
      "text/plain": [
       "0                                This introduction NLP\n",
       "1                           It likely useful,to people\n",
       "2                      Machine learning new electrcity\n",
       "3    There would less hype around AI action goingfo...\n",
       "4                                    python best tool!\n",
       "5                                     R good langauage\n",
       "6                                      I likethis book\n",
       "7                                    I want books like\n",
       "Name: tweet, dtype: object"
      ]
     },
     "execution_count": 22,
     "metadata": {},
     "output_type": "execute_result"
    }
   ],
   "source": [
    "df['tweet']"
   ]
  },
  {
   "cell_type": "markdown",
   "id": "9a9d98a7",
   "metadata": {},
   "source": [
    "### 4.Standardizing Text"
   ]
  },
  {
   "cell_type": "markdown",
   "id": "4050c3be",
   "metadata": {},
   "source": [
    "Most of the text data is in the form of either customer reviews, blogs, or tweets,\n",
    "where there is a high chance of people using short words and abbreviations to\n",
    "represent the same meaning. This may help the downstream process to easily\n",
    "understand and resolve the semantics of the text"
   ]
  },
  {
   "cell_type": "markdown",
   "id": "b39c06b7",
   "metadata": {},
   "source": [
    "### 4.1 Create a custom lookup dictionary"
   ]
  },
  {
   "cell_type": "code",
   "execution_count": 24,
   "id": "3094eec6",
   "metadata": {},
   "outputs": [],
   "source": [
    "lookup_dict = {'nlp':'natural language processing','ur':'your', \"wbu\" : \"what about you\"}"
   ]
  },
  {
   "cell_type": "code",
   "execution_count": 37,
   "id": "0062ea0b",
   "metadata": {},
   "outputs": [
    {
     "name": "stdout",
     "output_type": "stream",
     "text": [
      "{'nlp': 'natural language processing', 'ur': 'your', 'wbu': 'what about you'}\n"
     ]
    }
   ],
   "source": [
    "print(lookup_dict)\n",
    "import re"
   ]
  },
  {
   "cell_type": "markdown",
   "id": "4f111ea6",
   "metadata": {},
   "source": [
    "### 4.2 Create a custom function for text standardization"
   ]
  },
  {
   "cell_type": "code",
   "execution_count": 41,
   "id": "9db70df3",
   "metadata": {},
   "outputs": [],
   "source": [
    "def text_std(input_text):\n",
    "    words = input_text.split()\n",
    "    new_words = []\n",
    "    for word in words:\n",
    "        word = re.sub(r'[^\\w\\s]',\"\",word)\n",
    "    if word.lower() in lookup_dict:\n",
    "        word = lookup_dict[word.lower()]\n",
    "        new_words.append(word)\n",
    "        new_text = \"\".join(new_words)\n",
    "    return new_text"
   ]
  },
  {
   "cell_type": "markdown",
   "id": "710bd3df",
   "metadata": {},
   "source": [
    "#### 4-3 Run the text_std function"
   ]
  },
  {
   "cell_type": "code",
   "execution_count": 42,
   "id": "e47d25e4",
   "metadata": {},
   "outputs": [
    {
     "ename": "UnboundLocalError",
     "evalue": "local variable 'new_text' referenced before assignment",
     "output_type": "error",
     "traceback": [
      "\u001b[0;31m---------------------------------------------------------------------------\u001b[0m",
      "\u001b[0;31mUnboundLocalError\u001b[0m                         Traceback (most recent call last)",
      "\u001b[0;32m<ipython-input-42-40a569e914c6>\u001b[0m in \u001b[0;36m<module>\u001b[0;34m\u001b[0m\n\u001b[0;32m----> 1\u001b[0;31m \u001b[0mtext_std\u001b[0m\u001b[0;34m(\u001b[0m\u001b[0;34m\"I like nlp it's ur choice\"\u001b[0m\u001b[0;34m)\u001b[0m\u001b[0;34m\u001b[0m\u001b[0;34m\u001b[0m\u001b[0m\n\u001b[0m",
      "\u001b[0;32m<ipython-input-41-e9042e1f2c2c>\u001b[0m in \u001b[0;36mtext_std\u001b[0;34m(input_text)\u001b[0m\n\u001b[1;32m      8\u001b[0m         \u001b[0mnew_words\u001b[0m\u001b[0;34m.\u001b[0m\u001b[0mappend\u001b[0m\u001b[0;34m(\u001b[0m\u001b[0mword\u001b[0m\u001b[0;34m)\u001b[0m\u001b[0;34m\u001b[0m\u001b[0;34m\u001b[0m\u001b[0m\n\u001b[1;32m      9\u001b[0m         \u001b[0mnew_text\u001b[0m \u001b[0;34m=\u001b[0m \u001b[0;34m\"\"\u001b[0m\u001b[0;34m.\u001b[0m\u001b[0mjoin\u001b[0m\u001b[0;34m(\u001b[0m\u001b[0mnew_words\u001b[0m\u001b[0;34m)\u001b[0m\u001b[0;34m\u001b[0m\u001b[0;34m\u001b[0m\u001b[0m\n\u001b[0;32m---> 10\u001b[0;31m     \u001b[0;32mreturn\u001b[0m \u001b[0mnew_text\u001b[0m\u001b[0;34m\u001b[0m\u001b[0;34m\u001b[0m\u001b[0m\n\u001b[0m",
      "\u001b[0;31mUnboundLocalError\u001b[0m: local variable 'new_text' referenced before assignment"
     ]
    }
   ],
   "source": [
    "text_std(\"I like nlp it's ur choice\")"
   ]
  },
  {
   "cell_type": "markdown",
   "id": "fc0d8f5b",
   "metadata": {},
   "source": [
    "### 5. Correcting Spelling"
   ]
  },
  {
   "cell_type": "markdown",
   "id": "823ec1b2",
   "metadata": {},
   "source": [
    "The simplest way to do this by using the TextBlob library."
   ]
  },
  {
   "cell_type": "markdown",
   "id": "4022fdc3",
   "metadata": {},
   "source": [
    "#### 5-1 Read/create the text data"
   ]
  },
  {
   "cell_type": "code",
   "execution_count": 51,
   "id": "70d4174d",
   "metadata": {},
   "outputs": [
    {
     "name": "stdout",
     "output_type": "stream",
     "text": [
      "                                  tweet\n",
      "0                   Introduction to NLP\n",
      "1  It is likely to be useful, topeople \n",
      "2  Mahine lerning is the new electrcity\n",
      "3                    R is goodlangauage\n",
      "4                      I like this book\n",
      "5           I want more books like this\n"
     ]
    }
   ],
   "source": [
    "text=['Introduction to NLP','It is likely to be useful, topeople ','Mahine lerning is the new electrcity', 'R is goodlangauage','I like this book','I want more books like this']\n",
    "#convert list to dataframe\n",
    "import pandas as pd\n",
    "df = pd.DataFrame({'tweet':text})\n",
    "print(df)"
   ]
  },
  {
   "cell_type": "markdown",
   "id": "b69da3ff",
   "metadata": {},
   "source": [
    "#### 5-2 Execute below code on the text data"
   ]
  },
  {
   "cell_type": "code",
   "execution_count": 48,
   "id": "c7a77f39",
   "metadata": {},
   "outputs": [
    {
     "name": "stdout",
     "output_type": "stream",
     "text": [
      "Collecting textblob\n",
      "  Downloading textblob-0.17.1-py2.py3-none-any.whl (636 kB)\n",
      "\u001b[K     |████████████████████████████████| 636 kB 217 kB/s eta 0:00:01\n",
      "\u001b[?25hRequirement already satisfied: nltk>=3.1 in /Users/jothiramsanjeevi/opt/anaconda3/lib/python3.8/site-packages (from textblob) (3.6.1)\n",
      "Requirement already satisfied: regex in /Users/jothiramsanjeevi/opt/anaconda3/lib/python3.8/site-packages (from nltk>=3.1->textblob) (2021.4.4)\n",
      "Requirement already satisfied: joblib in /Users/jothiramsanjeevi/opt/anaconda3/lib/python3.8/site-packages (from nltk>=3.1->textblob) (1.0.1)\n",
      "Requirement already satisfied: tqdm in /Users/jothiramsanjeevi/opt/anaconda3/lib/python3.8/site-packages (from nltk>=3.1->textblob) (4.59.0)\n",
      "Requirement already satisfied: click in /Users/jothiramsanjeevi/opt/anaconda3/lib/python3.8/site-packages (from nltk>=3.1->textblob) (7.1.2)\n",
      "Installing collected packages: textblob\n",
      "Successfully installed textblob-0.17.1\n"
     ]
    }
   ],
   "source": [
    "#Install textblob library\n",
    "!pip install textblob"
   ]
  },
  {
   "cell_type": "code",
   "execution_count": 49,
   "id": "df016aa7",
   "metadata": {},
   "outputs": [],
   "source": [
    "from textblob import TextBlob"
   ]
  },
  {
   "cell_type": "code",
   "execution_count": 52,
   "id": "f3cfbbbe",
   "metadata": {},
   "outputs": [
    {
     "data": {
      "text/plain": [
       "0                       Introduction to NLP\n",
       "1        It is likely to be useful, people \n",
       "2    Machine leaning is the new electricity\n",
       "3                        R is goodlangauage\n",
       "4                          I like this book\n",
       "5               I want more books like this\n",
       "Name: tweet, dtype: object"
      ]
     },
     "execution_count": 52,
     "metadata": {},
     "output_type": "execute_result"
    }
   ],
   "source": [
    "df['tweet'].apply(lambda x: str(TextBlob(x).correct()))"
   ]
  },
  {
   "cell_type": "code",
   "execution_count": 53,
   "id": "53182011",
   "metadata": {},
   "outputs": [
    {
     "name": "stdout",
     "output_type": "stream",
     "text": [
      "Collecting autocorrect\n",
      "  Downloading autocorrect-2.6.1.tar.gz (622 kB)\n",
      "\u001b[K     |████████████████████████████████| 622 kB 217 kB/s eta 0:00:01\n",
      "\u001b[?25hBuilding wheels for collected packages: autocorrect\n",
      "  Building wheel for autocorrect (setup.py) ... \u001b[?25ldone\n",
      "\u001b[?25h  Created wheel for autocorrect: filename=autocorrect-2.6.1-py3-none-any.whl size=622380 sha256=874bf0dd6a20cddd53d7e38f47433e2a09ff7072915d514343d4c98e5170643e\n",
      "  Stored in directory: /Users/jothiramsanjeevi/Library/Caches/pip/wheels/72/b8/3b/a90246d13090e85394a8a44b78c8abf577c0766f29d6543c75\n",
      "Successfully built autocorrect\n",
      "Installing collected packages: autocorrect\n",
      "Successfully installed autocorrect-2.6.1\n",
      "autocorrect.spell is deprecated,             use autocorrect.Speller instead\n",
      "message\n",
      "autocorrect.spell is deprecated,             use autocorrect.Speller instead\n",
      "service\n"
     ]
    }
   ],
   "source": [
    "#You can also use autocorrect library as shown below\n",
    "#install autocorrect\n",
    "!pip install autocorrect\n"
   ]
  },
  {
   "cell_type": "code",
   "execution_count": 62,
   "id": "f5d52f8e",
   "metadata": {},
   "outputs": [],
   "source": [
    "from autocorrect import speller"
   ]
  },
  {
   "cell_type": "code",
   "execution_count": 65,
   "id": "ead7b730",
   "metadata": {},
   "outputs": [
    {
     "ename": "NameError",
     "evalue": "name 'speller' is not defined",
     "output_type": "error",
     "traceback": [
      "\u001b[0;31m---------------------------------------------------------------------------\u001b[0m",
      "\u001b[0;31mNameError\u001b[0m                                 Traceback (most recent call last)",
      "\u001b[0;32m<ipython-input-65-501e5ec407e7>\u001b[0m in \u001b[0;36m<module>\u001b[0;34m\u001b[0m\n\u001b[0;32m----> 1\u001b[0;31m \u001b[0mprint\u001b[0m\u001b[0;34m(\u001b[0m\u001b[0mspeller\u001b[0m\u001b[0;34m(\u001b[0m\u001b[0;34mu'mussage'\u001b[0m\u001b[0;34m)\u001b[0m\u001b[0;34m)\u001b[0m\u001b[0;34m\u001b[0m\u001b[0;34m\u001b[0m\u001b[0m\n\u001b[0m\u001b[1;32m      2\u001b[0m \u001b[0mprint\u001b[0m\u001b[0;34m(\u001b[0m\u001b[0mspeller\u001b[0m\u001b[0;34m(\u001b[0m\u001b[0;34mu'sirvice'\u001b[0m\u001b[0;34m)\u001b[0m\u001b[0;34m)\u001b[0m\u001b[0;34m\u001b[0m\u001b[0;34m\u001b[0m\u001b[0m\n",
      "\u001b[0;31mNameError\u001b[0m: name 'speller' is not defined"
     ]
    }
   ],
   "source": [
    "print(speller(u'mussage'))\n",
    "print(speller(u'sirvice'))"
   ]
  },
  {
   "cell_type": "code",
   "execution_count": 66,
   "id": "b253b2ca",
   "metadata": {},
   "outputs": [
    {
     "name": "stdout",
     "output_type": "stream",
     "text": [
      "Collecting pyspellchecker\n",
      "  Downloading pyspellchecker-0.7.2-py3-none-any.whl (3.4 MB)\n",
      "\u001b[K     |████████████████████████████████| 3.4 MB 229 kB/s eta 0:00:01     |███████████                     | 1.2 MB 40 kB/s eta 0:00:56     |████████████▎                   | 1.3 MB 47 kB/s eta 0:00:45\n",
      "\u001b[?25hInstalling collected packages: pyspellchecker\n",
      "Successfully installed pyspellchecker-0.7.2\n"
     ]
    }
   ],
   "source": [
    "!pip install pyspellchecker"
   ]
  },
  {
   "cell_type": "code",
   "execution_count": 67,
   "id": "d1a9c887",
   "metadata": {},
   "outputs": [],
   "source": [
    "from spellchecker import SpellChecker\n",
    "\n",
    "# Create a SpellChecker object\n",
    "spell = SpellChecker()\n"
   ]
  },
  {
   "cell_type": "code",
   "execution_count": 79,
   "id": "2f96cea8",
   "metadata": {},
   "outputs": [
    {
     "name": "stdout",
     "output_type": "stream",
     "text": [
      "one\n"
     ]
    }
   ],
   "source": [
    "word = 'Oze'  # Misspelled word\n",
    "\n",
    "# Perform autocorrection\n",
    "corrected_word = spell.correction(word)\n",
    "print(corrected_word)"
   ]
  },
  {
   "cell_type": "markdown",
   "id": "7008cc68",
   "metadata": {},
   "source": [
    "### 6. Tokenizing Text"
   ]
  },
  {
   "cell_type": "markdown",
   "id": "5a1f8f63",
   "metadata": {},
   "source": [
    "Tokenization refers to\n",
    "splitting text into minimal meaningful units. There is a sentence tokenizer\n",
    "and word tokenizer. We will see a word tokenizer in this recipe, which is\n",
    "a mandatory step in text preprocessing for any kind of analysis. There are\n",
    "many libraries to perform tokenization like NLTK, SpaCy, and TextBlob.\n",
    "Here are a few ways to achieve it."
   ]
  },
  {
   "cell_type": "code",
   "execution_count": 80,
   "id": "658518f5",
   "metadata": {},
   "outputs": [
    {
     "name": "stdout",
     "output_type": "stream",
     "text": [
      "                                               tweet\n",
      "0                        This is introduction to NLP\n",
      "1               It is likely to be useful,to people \n",
      "2             Machine learning is the new electrcity\n",
      "3  There would be less hype around AI and more ac...\n",
      "4                           python is the best tool!\n",
      "5                                R is good langauage\n",
      "6                                   I like this book\n",
      "7                        I want more books like this\n"
     ]
    }
   ],
   "source": [
    "text=['This is introduction to NLP','It is likely to be useful,to people ','Machine learning is the new electrcity','There would be less hype around AI and more action goingforward','python is the best tool!','R is good langauage','I like this book','I want more books like this']\n",
    "#convert list to dataframe\n",
    "import pandas as pd\n",
    "df = pd.DataFrame({'tweet':text})\n",
    "print(df)"
   ]
  },
  {
   "cell_type": "markdown",
   "id": "d9ecf9e0",
   "metadata": {},
   "source": [
    "#### 6-1 Execute below code on the text data"
   ]
  },
  {
   "cell_type": "code",
   "execution_count": 82,
   "id": "0d444f46",
   "metadata": {},
   "outputs": [
    {
     "name": "stdout",
     "output_type": "stream",
     "text": [
      "Requirement already satisfied: Textblob in /Users/jothiramsanjeevi/opt/anaconda3/lib/python3.8/site-packages (0.17.1)\r\n",
      "Requirement already satisfied: nltk>=3.1 in /Users/jothiramsanjeevi/opt/anaconda3/lib/python3.8/site-packages (from Textblob) (3.6.1)\r\n",
      "Requirement already satisfied: regex in /Users/jothiramsanjeevi/opt/anaconda3/lib/python3.8/site-packages (from nltk>=3.1->Textblob) (2021.4.4)\r\n",
      "Requirement already satisfied: tqdm in /Users/jothiramsanjeevi/opt/anaconda3/lib/python3.8/site-packages (from nltk>=3.1->Textblob) (4.59.0)\r\n",
      "Requirement already satisfied: click in /Users/jothiramsanjeevi/opt/anaconda3/lib/python3.8/site-packages (from nltk>=3.1->Textblob) (7.1.2)\r\n",
      "Requirement already satisfied: joblib in /Users/jothiramsanjeevi/opt/anaconda3/lib/python3.8/site-packages (from nltk>=3.1->Textblob) (1.0.1)\r\n"
     ]
    }
   ],
   "source": [
    "!pip install Textblob"
   ]
  },
  {
   "cell_type": "code",
   "execution_count": 93,
   "id": "2e537240",
   "metadata": {},
   "outputs": [
    {
     "data": {
      "text/plain": [
       "WordList(['There', 'would', 'be', 'less', 'hype', 'around', 'AI', 'and', 'more', 'action', 'goingforward'])"
      ]
     },
     "execution_count": 93,
     "metadata": {},
     "output_type": "execute_result"
    }
   ],
   "source": [
    "from textblob import TextBlob\n",
    "TextBlob(df['tweet'][3]).words"
   ]
  },
  {
   "cell_type": "code",
   "execution_count": 90,
   "id": "3eeb1b28",
   "metadata": {},
   "outputs": [],
   "source": [
    "#using NLTK\n",
    "import nltk\n",
    "#create data\n",
    "mystring = \"My favorite animal is cat\"\n"
   ]
  },
  {
   "cell_type": "code",
   "execution_count": 91,
   "id": "05c7992f",
   "metadata": {},
   "outputs": [
    {
     "name": "stderr",
     "output_type": "stream",
     "text": [
      "[nltk_data] Downloading package punkt to\n",
      "[nltk_data]     /Users/jothiramsanjeevi/nltk_data...\n",
      "[nltk_data]   Unzipping tokenizers/punkt.zip.\n"
     ]
    }
   ],
   "source": [
    "import nltk\n",
    "nltk.download('punkt')\n",
    "from nltk.tokenize import word_tokenize, sent_tokenize\n"
   ]
  },
  {
   "cell_type": "code",
   "execution_count": 94,
   "id": "285e42ca",
   "metadata": {},
   "outputs": [
    {
     "data": {
      "text/plain": [
       "['My', 'favorite', 'animal', 'is', 'cat']"
      ]
     },
     "execution_count": 94,
     "metadata": {},
     "output_type": "execute_result"
    }
   ],
   "source": [
    "#using NLTK\n",
    "import nltk\n",
    "#create data\n",
    "mystring = \"My favorite animal is cat\"\n",
    "nltk.word_tokenize(mystring)"
   ]
  },
  {
   "cell_type": "markdown",
   "id": "02bbaecd",
   "metadata": {},
   "source": [
    "### 7. Stemming"
   ]
  },
  {
   "cell_type": "markdown",
   "id": "b846f845",
   "metadata": {},
   "source": [
    "In Natural Language Processing (NLP), stemming is the process of reducing a word to its base or root form, known as the stem. The stem represents the core meaning of a word, and by reducing words to their stems, we can group together words that have the same or similar meanings.\n",
    "\n",
    "The purpose of stemming is to normalize words so that variations of the same word are treated as a single entity during text analysis. It helps in reducing the vocabulary size and achieving better results in tasks such as information retrieval, text classification, and sentiment analysis."
   ]
  },
  {
   "cell_type": "code",
   "execution_count": 95,
   "id": "57ee048c",
   "metadata": {},
   "outputs": [
    {
     "name": "stdout",
     "output_type": "stream",
     "text": [
      "                            tweet\n",
      "0                  I like fishing\n",
      "1                      I eat fish\n",
      "2  There are many fishes in pound\n"
     ]
    }
   ],
   "source": [
    "text=['I like fishing','I eat fish','There are many fishes in pound']\n",
    "#convert list to dataframe\n",
    "import pandas as pd\n",
    "df = pd.DataFrame({'tweet':text})\n",
    "print(df)"
   ]
  },
  {
   "cell_type": "markdown",
   "id": "6074d593",
   "metadata": {},
   "source": [
    "#### 7-1 Stemming the text"
   ]
  },
  {
   "cell_type": "code",
   "execution_count": 98,
   "id": "f053679d",
   "metadata": {},
   "outputs": [],
   "source": [
    "#Import library\n",
    "from nltk.stem import PorterStemmer"
   ]
  },
  {
   "cell_type": "code",
   "execution_count": 99,
   "id": "313fa12d",
   "metadata": {},
   "outputs": [
    {
     "data": {
      "text/plain": [
       "0                     i like fish\n",
       "1                      i eat fish\n",
       "2    there are mani fish in pound\n",
       "Name: tweet, dtype: object"
      ]
     },
     "execution_count": 99,
     "metadata": {},
     "output_type": "execute_result"
    }
   ],
   "source": [
    "st = PorterStemmer()\n",
    "df['tweet'][:5].apply(lambda x: \" \".join([st.stem(word) for word in x.split()]))"
   ]
  },
  {
   "cell_type": "markdown",
   "id": "7dece441",
   "metadata": {},
   "source": [
    "### 8. Lemmatizing"
   ]
  },
  {
   "cell_type": "markdown",
   "id": "197c7c10",
   "metadata": {},
   "source": [
    "Lemmatization is the process of reducing words to their base or dictionary form, known as the lemma. Unlike stemming, which truncates words to their root form using heuristics, lemmatization considers the morphological analysis of words to generate the lemma.\n",
    "\n",
    "The goal of lemmatization is to transform words into a canonical or normalized form, allowing different inflected forms of a word to be treated as a single term. This helps in tasks such as information retrieval, text analysis, and language understanding, where it is desirable to reduce words to their essential meaning."
   ]
  },
  {
   "cell_type": "markdown",
   "id": "632e100a",
   "metadata": {},
   "source": [
    "The part of speech of a word is determined in lemmatization. It will\n",
    "return the dictionary form of a word, which must be a valid word while\n",
    "stemming just extracts the root word.\n",
    "- Lemmatization handles matching “car” to “cars” along with matching “car” to “automobile.”\n",
    "- Stemming handles matching “car” to “cars.”\n",
    "Lemmatization can get better results.\n",
    "- The stemmed form of leafs is leaf.\n",
    "- The stemmed form of leaves is leav.\n",
    "- The lemmatized form of leafs is leaf.\n",
    "- The lemmatized form of leaves is leaf"
   ]
  },
  {
   "cell_type": "markdown",
   "id": "d3eb3d2d",
   "metadata": {},
   "source": [
    "### 8.1 Lemmatizing the data"
   ]
  },
  {
   "cell_type": "code",
   "execution_count": 101,
   "id": "3622a833",
   "metadata": {},
   "outputs": [
    {
     "name": "stderr",
     "output_type": "stream",
     "text": [
      "[nltk_data] Downloading package wordnet to\n",
      "[nltk_data]     /Users/jothiramsanjeevi/nltk_data...\n"
     ]
    },
    {
     "data": {
      "text/plain": [
       "True"
      ]
     },
     "execution_count": 101,
     "metadata": {},
     "output_type": "execute_result"
    }
   ],
   "source": [
    "nltk.download('wordnet')"
   ]
  },
  {
   "cell_type": "code",
   "execution_count": 102,
   "id": "50df3d0a",
   "metadata": {},
   "outputs": [
    {
     "name": "stderr",
     "output_type": "stream",
     "text": [
      "[nltk_data] Downloading package wordnet to\n",
      "[nltk_data]     /Users/jothiramsanjeevi/nltk_data...\n",
      "[nltk_data]   Package wordnet is already up-to-date!\n"
     ]
    },
    {
     "name": "stdout",
     "output_type": "stream",
     "text": [
      "running => running\n",
      "runs => run\n",
      "ran => ran\n",
      "runner => runner\n",
      "runningly => runningly\n"
     ]
    }
   ],
   "source": [
    "import nltk\n",
    "nltk.download('wordnet')\n",
    "from nltk.stem import WordNetLemmatizer\n",
    "\n",
    "# Create a WordNetLemmatizer object\n",
    "lemmatizer = WordNetLemmatizer()\n",
    "\n",
    "# Example words for lemmatization\n",
    "words = [\"running\", \"runs\", \"ran\", \"runner\", \"runningly\"]\n",
    "\n",
    "# Lemmatize the words\n",
    "lemmatized_words = [lemmatizer.lemmatize(word) for word in words]\n",
    "\n",
    "# Print the lemmatized words\n",
    "for word, lemmatized_word in zip(words, lemmatized_words):\n",
    "    print(f\"{word} => {lemmatized_word}\")\n"
   ]
  },
  {
   "cell_type": "markdown",
   "id": "78e943c8",
   "metadata": {},
   "source": [
    "## |9. Exploring Text Data"
   ]
  },
  {
   "cell_type": "markdown",
   "id": "846ea034",
   "metadata": {},
   "source": [
    "### 9-1 Read the text data"
   ]
  },
  {
   "cell_type": "code",
   "execution_count": 6,
   "id": "f739bd0e",
   "metadata": {},
   "outputs": [
    {
     "name": "stderr",
     "output_type": "stream",
     "text": [
      "[nltk_data] Downloading package webtext to\n",
      "[nltk_data]     /Users/jothiramsanjeevi/nltk_data...\n",
      "[nltk_data]   Package webtext is already up-to-date!\n"
     ]
    }
   ],
   "source": [
    "#Importing data\n",
    "import nltk\n",
    "from nltk.corpus import webtext\n",
    "nltk.download('webtext')\n",
    "wt_sentences = webtext.sents('firefox.txt')\n",
    "wt_words = webtext.words('firefox.txt')"
   ]
  },
  {
   "cell_type": "markdown",
   "id": "370bd9dd",
   "metadata": {},
   "source": [
    "### 9-2 Import necessary libraries"
   ]
  },
  {
   "cell_type": "code",
   "execution_count": 7,
   "id": "5a553342",
   "metadata": {},
   "outputs": [],
   "source": [
    "from nltk.probability import FreqDist\n",
    "from nltk.corpus import stopwords\n",
    "import string"
   ]
  },
  {
   "cell_type": "markdown",
   "id": "7a28d1d1",
   "metadata": {},
   "source": [
    "### 9-3 Check number of words in the data"
   ]
  },
  {
   "cell_type": "code",
   "execution_count": 8,
   "id": "8e75d6d2",
   "metadata": {},
   "outputs": [
    {
     "name": "stdout",
     "output_type": "stream",
     "text": [
      "1142\n",
      "102457\n"
     ]
    }
   ],
   "source": [
    "print(len(wt_sentences))\n",
    "print(len(wt_words))"
   ]
  },
  {
   "cell_type": "markdown",
   "id": "b8e24602",
   "metadata": {},
   "source": [
    "### 9-4 Compute the frequency of all words in the reviews"
   ]
  },
  {
   "cell_type": "code",
   "execution_count": 9,
   "id": "7f697498",
   "metadata": {},
   "outputs": [
    {
     "data": {
      "text/plain": [
       "FreqDist({'.': 2428, 'in': 2203, 'to': 2130, '\"': 1971, 'the': 1762, \"'\": 1507, 'not': 1472, '-': 1372, 'when': 1255, 'on': 1193, ...})"
      ]
     },
     "execution_count": 9,
     "metadata": {},
     "output_type": "execute_result"
    }
   ],
   "source": [
    "frequency_dist = nltk.FreqDist(wt_words)\n",
    "frequency_dist"
   ]
  },
  {
   "cell_type": "code",
   "execution_count": 10,
   "id": "ce63f59f",
   "metadata": {},
   "outputs": [
    {
     "data": {
      "text/plain": [
       "['.', 'in', 'to', '\"', 'the']"
      ]
     },
     "execution_count": 10,
     "metadata": {},
     "output_type": "execute_result"
    }
   ],
   "source": [
    "sorted_frequency_dist =sorted(frequency_dist,key=frequency_dist.__getitem__, reverse=True)\n",
    "sorted_frequency_dist[0:5]"
   ]
  },
  {
   "cell_type": "markdown",
   "id": "ef438180",
   "metadata": {},
   "source": [
    "### 9-5 Consider words with length greater than 3 and plot"
   ]
  },
  {
   "cell_type": "code",
   "execution_count": 11,
   "id": "8b160172",
   "metadata": {},
   "outputs": [],
   "source": [
    "large_words=dict([(k,v) for k,v in frequency_dist.items() if len(k)>3])"
   ]
  },
  {
   "cell_type": "code",
   "execution_count": 12,
   "id": "f861d1dc",
   "metadata": {},
   "outputs": [
    {
     "data": {
      "image/png": "[encoded data removed]",
      "text/plain": [
       "<Figure size 432x288 with 1 Axes>"
      ]
     },
     "metadata": {
      "needs_background": "light"
     },
     "output_type": "display_data"
    },
    {
     "data": {
      "text/plain": [
       "<AxesSubplot:xlabel='Samples', ylabel='Counts'>"
      ]
     },
     "execution_count": 12,
     "metadata": {},
     "output_type": "execute_result"
    }
   ],
   "source": [
    "frequency_dist = nltk.FreqDist(large_words)\n",
    "frequency_dist.plot(50,cumulative=False)"
   ]
  },
  {
   "cell_type": "markdown",
   "id": "dc803a7f",
   "metadata": {},
   "source": [
    "### 9-6 Build Wordcloud"
   ]
  },
  {
   "cell_type": "code",
   "execution_count": 13,
   "id": "0c35a4a8",
   "metadata": {},
   "outputs": [
    {
     "name": "stdout",
     "output_type": "stream",
     "text": [
      "Requirement already satisfied: wordcloud in /Users/jothiramsanjeevi/opt/anaconda3/lib/python3.8/site-packages (1.9.2)\n",
      "Requirement already satisfied: pillow in /Users/jothiramsanjeevi/opt/anaconda3/lib/python3.8/site-packages (from wordcloud) (10.0.0)\n",
      "Requirement already satisfied: numpy>=1.6.1 in /Users/jothiramsanjeevi/opt/anaconda3/lib/python3.8/site-packages (from wordcloud) (1.20.1)\n",
      "Requirement already satisfied: matplotlib in /Users/jothiramsanjeevi/opt/anaconda3/lib/python3.8/site-packages (from wordcloud) (3.3.4)\n",
      "Requirement already satisfied: pyparsing!=2.0.4,!=2.1.2,!=2.1.6,>=2.0.3 in /Users/jothiramsanjeevi/opt/anaconda3/lib/python3.8/site-packages (from matplotlib->wordcloud) (2.4.7)\n",
      "Requirement already satisfied: python-dateutil>=2.1 in /Users/jothiramsanjeevi/opt/anaconda3/lib/python3.8/site-packages (from matplotlib->wordcloud) (2.8.1)\n",
      "Requirement already satisfied: kiwisolver>=1.0.1 in /Users/jothiramsanjeevi/opt/anaconda3/lib/python3.8/site-packages (from matplotlib->wordcloud) (1.3.1)\n",
      "Requirement already satisfied: cycler>=0.10 in /Users/jothiramsanjeevi/opt/anaconda3/lib/python3.8/site-packages (from matplotlib->wordcloud) (0.10.0)\n",
      "Requirement already satisfied: six in /Users/jothiramsanjeevi/opt/anaconda3/lib/python3.8/site-packages (from cycler>=0.10->matplotlib->wordcloud) (1.15.0)\n"
     ]
    }
   ],
   "source": [
    "#install library\n",
    "!pip install wordcloud"
   ]
  },
  {
   "cell_type": "code",
   "execution_count": 16,
   "id": "40dbd362",
   "metadata": {},
   "outputs": [
    {
     "data": {
      "image/png": "[encoded data removed]",
      "text/plain": [
       "<Figure size 432x288 with 1 Axes>"
      ]
     },
     "metadata": {
      "needs_background": "light"
     },
     "output_type": "display_data"
    }
   ],
   "source": [
    "from wordcloud import WordCloud\n",
    "\n",
    "\n",
    "# Create a WordCloud object and generate the word cloud\n",
    "wordcloud = WordCloud()\n",
    "wordcloud.generate_from_frequencies(frequency_dist)\n",
    "# Display the word cloud using matplotlib\n",
    "import matplotlib.pyplot as plt\n",
    "plt.imshow(wordcloud, interpolation='bilinear')\n",
    "plt.axis(\"off\")\n",
    "plt.axis(\"off\")\n",
    "(-0.5, 399.5, 199.5, -0.5)\n",
    "plt.show()\n",
    "plt.show()\n",
    "\n"
   ]
  },
  {
   "cell_type": "code",
   "execution_count": 135,
   "id": "0836fa2a",
   "metadata": {},
   "outputs": [
    {
     "name": "stdout",
     "output_type": "stream",
     "text": [
      "Requirement already satisfied: Pillow in /Users/jothiramsanjeevi/opt/anaconda3/lib/python3.8/site-packages (8.2.0)\n",
      "Collecting Pillow\n",
      "  Downloading Pillow-10.0.0-cp38-cp38-macosx_10_10_x86_64.whl (3.4 MB)\n",
      "\u001b[K     |████████████████████████████████| 3.4 MB 778 kB/s eta 0:00:01     |███████████████████             | 2.0 MB 778 kB/s eta 0:00:02\n",
      "\u001b[?25hInstalling collected packages: Pillow\n",
      "  Attempting uninstall: Pillow\n",
      "    Found existing installation: Pillow 8.2.0\n",
      "    Uninstalling Pillow-8.2.0:\n",
      "      Successfully uninstalled Pillow-8.2.0\n",
      "Successfully installed Pillow-10.0.0\n",
      "Note: you may need to restart the kernel to use updated packages.\n"
     ]
    }
   ],
   "source": [
    "pip install --upgrade Pillow"
   ]
  },
  {
   "cell_type": "markdown",
   "id": "8a27a44f",
   "metadata": {},
   "source": [
    "## 10. Building a Text Preprocessing Pipeline"
   ]
  },
  {
   "cell_type": "code",
   "execution_count": 18,
   "id": "1123cff5",
   "metadata": {},
   "outputs": [],
   "source": [
    "tweet_sample= \"How to take control of your #debt https://personal.vanguard.com/us/insights/saving-investing/debt-management.#Best advice for #family #financial #success (@PrepareToWin)\""
   ]
  },
  {
   "cell_type": "markdown",
   "id": "812f13eb",
   "metadata": {},
   "source": [
    "### 10-1 Process the text"
   ]
  },
  {
   "cell_type": "code",
   "execution_count": 38,
   "id": "5db78c1b",
   "metadata": {},
   "outputs": [],
   "source": [
    "def processRow(row):\n",
    "    import re\n",
    "    import nltk\n",
    "    from textblob import TextBlob\n",
    "    from nltk.corpus import stopwords\n",
    "    from nltk.stem import PorterStemmer\n",
    "    from textblob import Word\n",
    "    from nltk.util import ngrams\n",
    "    import re\n",
    "    from wordcloud import WordCloud, STOPWORDS\n",
    "    from nltk.tokenize import word_tokenize\n",
    "    tweet = row\n",
    "    #Lower case\n",
    "    tweet.lower()\n",
    "    #Removes unicode strings like \"\\u002c\" and \"x96\"\n",
    "    tweet = re.sub(r'(\\\\u[0-9A-Fa-f]+)',r'', tweet)\n",
    "    tweet = re.sub(r'[^\\x00-\\x7f]',r'',tweet)\n",
    "    #convert any url to URL\n",
    "    tweet = re.sub('((www\\.[^\\s]+)|(https?://[^\\s]+))','URL',tweet)\n",
    "    #Convert any @Username to \"AT_USER\"\n",
    "    tweet = re.sub('@[^\\s]+','AT_USER',tweet)\n",
    "    #Remove additional white spaces\n",
    "    tweet = re.sub('[\\s]+', ' ', tweet)\n",
    "    tweet = re.sub('[\\n]+', ' ', tweet)\n",
    "    #Remove not alphanumeric symbols white spaces\n",
    "    tweet = re.sub(r'[^\\w]', ' ', tweet)\n",
    "    #Removes hastag in front of a word \"\"\"\n",
    "    tweet = re.sub(r'#([^\\s]+)', r'\\1', tweet)\n",
    "    #Replace #word with word\n",
    "    tweet = re.sub(r'#([^\\s]+)', r'\\1', tweet)\n",
    "    #Remove :( or :)\n",
    "    tweet = tweet.replace(':)',\"\")\n",
    "    tweet = tweet.replace(':(',\"\")\n",
    "    #remove numbers\n",
    "    tweet = \"\".join([i for i in tweet if not i.isdigit()])\n",
    "    #remove multiple exclamation\n",
    "    tweet = re.sub(r\"(\\!)\\1+\", ' ', tweet)\n",
    "    #remove multiple question marks\n",
    "    tweet = re.sub(r\"(\\?)\\1+\", ' ', tweet)\n",
    "    #remove multistop\n",
    "    tweet = re.sub(r\"(\\.)\\1+\", ' ', tweet)\n",
    "    #lemma\n",
    "    from textblob import Word\n",
    "    tweet =\"\".join([Word(word).lemmatize() for word in tweet.split()])\n",
    "    #stemmer\n",
    "    #st = PorterStemmer()\n",
    "    #tweet=\" \".join([st.stem(word) for word in tweet.split()])\n",
    "    #Removes emoticons from text\n",
    "    tweet = re.sub(':\\)|;\\)|:-\\)|\\(-:|:-D|=D|:P|xD|X-p|\\^\\^|:-*|\\^\\.\\^|\\^\\-\\^|\\^\\_\\^|\\,-\\)|\\)-:|:\\'\\(|:\\(|:-\\(|:\\S|T\\.T|\\.\\_\\.|:<|:-\\S|:-<|\\*\\-\\*|:O|=O|=\\-O|O\\.o|XO|O\\_O|:-\\@|=/|:/|X\\-\\(|>\\.<|>=\\(|D:', \"\", tweet)\n",
    "    #trim\n",
    "    tweet = tweet.strip('\\'\"')\n",
    "    row = tweet\n",
    "    return row"
   ]
  },
  {
   "cell_type": "code",
   "execution_count": 37,
   "id": "936a4121",
   "metadata": {},
   "outputs": [
    {
     "data": {
      "text/plain": [
       "'H o w t o t a k e c o n t r o l o f y o u r d e b t U R L a d v i c e f o r f a m i l y f i n a n c i a l s u c c e s s A T _ U S E R'"
      ]
     },
     "execution_count": 37,
     "metadata": {},
     "output_type": "execute_result"
    }
   ],
   "source": [
    "#call the function with your data\n",
    "processRow(tweet_sample)"
   ]
  },
  {
   "cell_type": "code",
   "execution_count": null,
   "id": "d21c574b",
   "metadata": {},
   "outputs": [],
   "source": []
  }
 ],
 "metadata": {
  "kernelspec": {
   "display_name": "Python 3",
   "language": "python",
   "name": "python3"
  },
  "language_info": {
   "codemirror_mode": {
    "name": "ipython",
    "version": 3
   },
   "file_extension": ".py",
   "mimetype": "text/x-python",
   "name": "python",
   "nbconvert_exporter": "python",
   "pygments_lexer": "ipython3",
   "version": "3.8.8"
  }
 },
 "nbformat": 4,
 "nbformat_minor": 5
}
